{
 "cells": [
  {
   "cell_type": "code",
   "execution_count": 1,
   "metadata": {},
   "outputs": [],
   "source": [
    "%load_ext autoreload\n",
    "%autoreload 2"
   ]
  },
  {
   "cell_type": "markdown",
   "metadata": {},
   "source": [
    "## Preprocessing\n",
    "Run to generate the folder for the Torch ImageLoader class"
   ]
  },
  {
   "cell_type": "code",
   "execution_count": null,
   "metadata": {},
   "outputs": [],
   "source": [
    "# find closest image to resistivity timestamp\n",
    "#def find_closest_image(ts):\n",
    "    # Given a presorted list of timestamps:  s = sorted(index)\n",
    "#    i = bisect_left(s, ts)\n",
    "#    return min(s[max(0, i-1): i+2], key=lambda t: abs(ts - t))\n",
    "\n",
    "import io\n",
    "import csv\n",
    "import shutil\n",
    "img_folder = 'data/timelapse_images_fast'\n",
    "\n",
    "with open('data/labels_v2.csv') as csvfile:\n",
    "    readCSV = csv.reader(csvfile, delimiter=',')\n",
    "    for row in readCSV:\n",
    "        img_name = row[1]\n",
    "        label = int(row[2]=='True')\n",
    "        month_folder = row[0][:10]\n",
    "        #print(month_folder)\n",
    "        #print(img_name,label)\n",
    "        #print(os.path.join(img_folder,month_folder,img_name))\n",
    "        shutil.copyfile(os.path.join(img_folder,month_folder,img_name),os.path.join(img_folder,str(label),img_name))"
   ]
  },
  {
   "cell_type": "code",
   "execution_count": 2,
   "metadata": {},
   "outputs": [],
   "source": [
    "import os\n",
    "import torch\n",
    "import pandas as pd\n",
    "#from skimage import io, transform\n",
    "import matplotlib.pyplot as plt\n",
    "\n",
    "import numpy as np\n",
    "import torch\n",
    "import torch.nn as nn\n",
    "import torchvision\n",
    "import torchvision.transforms as transforms\n",
    "import torchvision.transforms.functional as Ft\n",
    "\n",
    "import torch.utils.data as data\n",
    "from torch.utils.data.sampler import SubsetRandomSampler\n",
    "\n",
    "from torch.autograd import Variable\n",
    "import torch.nn.functional as F\n",
    "import torchvision.models as models\n",
    "from torch.utils.tensorboard import SummaryWriter\n",
    "from tqdm import tqdm"
   ]
  },
  {
   "cell_type": "code",
   "execution_count": 3,
   "metadata": {},
   "outputs": [
    {
     "data": {
      "text/plain": [
       "<torch._C.Generator at 0x7fb3b557dc90>"
      ]
     },
     "execution_count": 3,
     "metadata": {},
     "output_type": "execute_result"
    }
   ],
   "source": [
    "seed = 42\n",
    "np.random.seed(seed)\n",
    "torch.manual_seed(seed)"
   ]
  },
  {
   "cell_type": "code",
   "execution_count": 4,
   "metadata": {},
   "outputs": [],
   "source": [
    "class MyCrop(object):\n",
    "    def __init__(self, size, coord, padding=None, pad_if_needed=False, fill=0, padding_mode='constant'):\n",
    "        self.size = size\n",
    "        self.padding = padding\n",
    "        # center points\n",
    "        self.coord = coord\n",
    "        self.pad_if_needed = pad_if_needed\n",
    "        self.fill = fill\n",
    "        self.padding_mode = padding_mode\n",
    "\n",
    "    def _get_image_size(img):\n",
    "        return img.shape\n",
    "    \n",
    "    def __call__(self, img):\n",
    "        if self.padding is not None:\n",
    "            img = Ft.pad(img, self.padding, self.fill, self.padding_mode)\n",
    "\n",
    "        # pad the width if needed\n",
    "        if self.pad_if_needed and img.size[0] < self.size[1]:\n",
    "            img = Ft.pad(img, (self.size[1] - img.size[0], 0), self.fill, self.padding_mode)\n",
    "        # pad the height if needed\n",
    "        if self.pad_if_needed and img.size[1] < self.size[0]:\n",
    "            img = Ft.pad(img, (0, self.size[0] - img.size[1]), self.fill, self.padding_mode)\n",
    "        \n",
    "        crops = []\n",
    "        for coord in self.coord:\n",
    "            crops.append(Ft.crop(img, coord[0], coord[1], self.size, self.size))\n",
    "\n",
    "        return crops\n",
    "\n",
    "    def __repr__(self):\n",
    "        return self.__class__.__name__ + '(size={0}, padding={1})'.format(self.size, self.padding)\n"
   ]
  },
  {
   "cell_type": "code",
   "execution_count": 6,
   "metadata": {},
   "outputs": [
    {
     "name": "stdout",
     "output_type": "stream",
     "text": [
      "14206\n"
     ]
    }
   ],
   "source": [
    "opts = {}\n",
    "opts['epochs'] = 10\n",
    "opts['batch_size'] = 64\n",
    "opts['lr'] = 0.003\n",
    "opts['nr_classes'] = 2\n",
    "\n",
    "coord = [(155,321),(201,419),(45,460),(121,158)]\n",
    "TRAIN_DATA_PATH = \"./data/binary_classification_v2\"\n",
    "TEST_DATA_PATH = \"./test_named_cl/\"\n",
    "TRANSFORM_IMG = transforms.Compose([\n",
    "    #transforms.CenterCrop(64),\n",
    "    MyCrop(64,coord),\n",
    "    transforms.Lambda(lambda crops: torch.stack([transforms.ToTensor()(crop) for crop in crops])),\n",
    "    #transforms.Resize(256),\n",
    "    #transforms.ToTensor(),\n",
    "    #transforms.Normalize(mean=[0.485, 0.456, 0.406],\n",
    "    #                     std=[0.229, 0.224, 0.225] )\n",
    "    ])\n",
    "\n",
    "writer = SummaryWriter()\n",
    "\n",
    "train_data = torchvision.datasets.ImageFolder(root=TRAIN_DATA_PATH, transform=TRANSFORM_IMG)\n",
    "print(len(train_data.imgs))\n",
    "# split into (train,val,test)\n",
    "dataset_size = len(train_data)\n",
    "indices = list(range(dataset_size))\n",
    "split = int(np.floor(0.05 * dataset_size))\n",
    "np.random.shuffle(indices)\n",
    "train_indices, val_indices = indices[split:], indices[:split]\n",
    "train_sampler = SubsetRandomSampler(train_indices)\n",
    "valid_sampler = SubsetRandomSampler(val_indices)\n",
    "train_data_loader = data.DataLoader(train_data, batch_size=opts['batch_size'], sampler=train_sampler,  num_workers=4)\n",
    "valid_data_loader = data.DataLoader(train_data, batch_size=opts['batch_size'], sampler=valid_sampler,  num_workers=4)\n",
    "\n",
    "#train_iter = iter(train_data_loader)\n",
    "#test_data = torchvision.datasets.ImageFolder(root=TEST_DATA_PATH, transform=TRANSFORM_IMG)\n",
    "#test_data_loader  = data.DataLoader(test_data, batch_size=BATCH_SIZE, shuffle=True, num_workers=4) "
   ]
  },
  {
   "cell_type": "code",
   "execution_count": 7,
   "metadata": {},
   "outputs": [
    {
     "name": "stdout",
     "output_type": "stream",
     "text": [
      "torch.Size([4, 3, 64, 64])\n"
     ]
    },
    {
     "data": {
      "image/png": "[encoded data removed]",
      "text/plain": [
       "<Figure size 432x288 with 1 Axes>"
      ]
     },
     "metadata": {
      "needs_background": "light"
     },
     "output_type": "display_data"
    },
    {
     "data": {
      "image/png": "[encoded data removed]",
      "text/plain": [
       "<Figure size 432x288 with 1 Axes>"
      ]
     },
     "metadata": {
      "needs_background": "light"
     },
     "output_type": "display_data"
    },
    {
     "data": {
      "image/png": "[encoded data removed]",
      "text/plain": [
       "<Figure size 432x288 with 1 Axes>"
      ]
     },
     "metadata": {
      "needs_background": "light"
     },
     "output_type": "display_data"
    },
    {
     "data": {
      "image/png": "[encoded data removed]",
      "text/plain": [
       "<Figure size 432x288 with 1 Axes>"
      ]
     },
     "metadata": {
      "needs_background": "light"
     },
     "output_type": "display_data"
    }
   ],
   "source": [
    "for batch_idx, sample in enumerate(train_data_loader):\n",
    "    images, labels = sample\n",
    "    print(images[0].shape)\n",
    "    #labels_q = np.digitize(labels,bins)\n",
    "    for i in range(4):\n",
    "        plt.imshow(  sample[0][0][i].permute(1, 2, 0)  )\n",
    "        plt.show()\n",
    "    break;\n",
    "\n"
   ]
  },
  {
   "cell_type": "markdown",
   "metadata": {},
   "source": [
    "## Models"
   ]
  },
  {
   "cell_type": "code",
   "execution_count": 8,
   "metadata": {},
   "outputs": [],
   "source": [
    "class BinaryCNN(torch.nn.Module):    \n",
    "    def __init__(self):\n",
    "        super(BinaryCNN, self).__init__()\n",
    "        self.layer1 = nn.Sequential(\n",
    "            nn.Conv2d(3, 32, kernel_size=5, stride=1, padding=2),\n",
    "            nn.ReLU(),\n",
    "            nn.MaxPool2d(kernel_size=2, stride=2))\n",
    "        self.layer2 = nn.Sequential(\n",
    "            nn.Conv2d(32, 64, kernel_size=5, stride=1, padding=2),\n",
    "            nn.ReLU(),\n",
    "            nn.MaxPool2d(kernel_size=2, stride=2))\n",
    "        self.drop_out = nn.Dropout()\n",
    "        self.fc1 = nn.Linear(7 * 7 * 64, 1000)\n",
    "        self.fc2 = nn.Linear(1000, 4)\n",
    "        \n",
    "    def forward(self, x):\n",
    "        out = self.layer1(x)\n",
    "        out = self.layer2(out)\n",
    "        out = out.reshape(out.size(0), -1)\n",
    "        out = self.drop_out(out)\n",
    "        out = self.fc1(out)\n",
    "        out = self.fc2(out)\n",
    "        return out\n",
    "    \n",
    "class CNN2(nn.Module):\n",
    "    # initializers\n",
    "    def __init__(self, d=32):\n",
    "        super(CNN2, self).__init__()\n",
    "        self.conv1 = nn.Conv2d(12, d, 4, 2, 1)\n",
    "        self.conv2 = nn.Conv2d(d, d*2, 4, 2, 1)\n",
    "        self.conv2_bn = nn.BatchNorm2d(d*2)\n",
    "        self.conv3 = nn.Conv2d(d*2, d*4, 4, 2, 1)\n",
    "        self.conv3_bn = nn.BatchNorm2d(d*4)\n",
    "        self.conv4 = nn.Conv2d(d*4, d*8, 4, 2, 1)\n",
    "        self.conv4_bn = nn.BatchNorm2d(d*8)\n",
    "        #print(self.conv4_bn)\n",
    "        self.linear = nn.Linear(d*8*4*4,2)\n",
    "        #self.conv5 = nn.Conv2d(d*8, 4, 4, 1, 0)\n",
    "\n",
    "    # weight_init\n",
    "    def weight_init(self, mean, std):\n",
    "        for m in self._modules:\n",
    "            normal_init(self._modules[m], mean, std)\n",
    "\n",
    "    # forward method\n",
    "    def forward(self, input):\n",
    "        x = F.leaky_relu(self.conv1(input), 0.2)\n",
    "        x = F.leaky_relu(self.conv2_bn(self.conv2(x)), 0.2)\n",
    "        x = F.leaky_relu(self.conv3_bn(self.conv3(x)), 0.2)\n",
    "        x = F.leaky_relu(self.conv4_bn(self.conv4(x)), 0.2)\n",
    "        x = x.reshape(x.size(0), -1)\n",
    "        #x = F.sigmoid(self.conv5(x))\n",
    "        x = self.linear(x)\n",
    "\n",
    "        return x\n",
    "    \n",
    "def normal_init(m, mean, std):\n",
    "    if isinstance(m, nn.ConvTranspose2d) or isinstance(m, nn.Conv2d):\n",
    "        m.weight.data.normal_(mean, std)\n",
    "        m.bias.data.zero_()"
   ]
  },
  {
   "cell_type": "markdown",
   "metadata": {},
   "source": [
    "## Training loop"
   ]
  },
  {
   "cell_type": "code",
   "execution_count": 9,
   "metadata": {},
   "outputs": [
    {
     "name": "stderr",
     "output_type": "stream",
     "text": [
      "211it [00:31,  6.70it/s]\n",
      "12it [00:00, 13.06it/s]\n",
      "211it [00:31,  6.73it/s]\n",
      "12it [00:01, 11.71it/s]\n",
      "211it [00:31,  6.71it/s]\n",
      "12it [00:01, 11.90it/s]\n",
      "211it [00:31,  6.79it/s]\n",
      "12it [00:01, 11.64it/s]\n",
      "211it [00:31,  6.69it/s]\n",
      "12it [00:01, 11.55it/s]\n",
      "211it [00:31,  6.75it/s]\n",
      "12it [00:00, 12.08it/s]\n",
      "211it [00:31,  6.72it/s]\n",
      "12it [00:01, 11.89it/s]\n",
      "211it [00:31,  6.73it/s]\n",
      "12it [00:01, 11.98it/s]\n",
      "211it [00:31,  6.78it/s]\n",
      "12it [00:01, 11.62it/s]\n",
      "211it [00:31,  6.76it/s]\n",
      "12it [00:01, 11.73it/s]"
     ]
    },
    {
     "name": "stdout",
     "output_type": "stream",
     "text": [
      "Finished Training\n"
     ]
    },
    {
     "name": "stderr",
     "output_type": "stream",
     "text": [
      "\n"
     ]
    }
   ],
   "source": [
    "import torch.optim as optim\n",
    "\n",
    "net = CNN2()\n",
    "criterion = nn.CrossEntropyLoss()\n",
    "optimizer = optim.Adam(net.parameters(), lr=opts['lr'])\n",
    "bins = np.array([0,91,182,273,366])\n",
    "nr_batches = len(train_data_loader)\n",
    "\n",
    "for epoch in range(opts['epochs']):  \n",
    "    running_loss = 0.0\n",
    "    for i, sample in tqdm(enumerate(train_data_loader, 0)):\n",
    "        inputs, labels = sample\n",
    "        inputs_stack = torch.reshape(inputs,[-1,12,64,64])\n",
    "        # quantize labels to 4 bins\n",
    "        #labels_q = torch.tensor(np.digitize(labels,bins))\n",
    "        # zero the parameter gradients\n",
    "        optimizer.zero_grad()\n",
    "\n",
    "        # forward + backward + optimize\n",
    "        outputs = net(inputs_stack)\n",
    "        loss = criterion(outputs, labels)\n",
    "        loss.backward()\n",
    "        optimizer.step()\n",
    "\n",
    "        # print statistics\n",
    "        running_loss += loss.item()\n",
    "        if i % 2000 == 1999:    # print every 2000 mini-batches\n",
    "            print('[%d, %5d] loss: %.3f' %\n",
    "                  (epoch + 1, i + 1, running_loss / 2000))\n",
    "            running_loss = 0.0\n",
    "        \n",
    "        # tensorboard \n",
    "        writer.add_scalar('Loss/train', loss, epoch*nr_batches + i)\n",
    "    \n",
    "    # run on test set\n",
    "    test_losses = []\n",
    "    for i, test_sample in tqdm(enumerate(valid_data_loader, 0)):\n",
    "        test_inputs, test_labels = test_sample\n",
    "        test_inputs_stack = torch.reshape(test_inputs,[-1,12,64,64])\n",
    "\n",
    "        # forward\n",
    "        test_outputs = net(test_inputs_stack)\n",
    "        test_loss = criterion(test_outputs, test_labels)\n",
    "        test_losses.append(test_loss)\n",
    "        \n",
    "    writer.add_scalar('Loss/test', torch.mean(torch.stack(test_losses)), epoch)\n",
    "    \n",
    "print('Finished Training')"
   ]
  },
  {
   "cell_type": "markdown",
   "metadata": {},
   "source": [
    "## Misc"
   ]
  },
  {
   "cell_type": "code",
   "execution_count": null,
   "metadata": {},
   "outputs": [],
   "source": [
    "#import seaborn as sns\n",
    "#data = pd.read_csv(\"data/timeseries_derived_data_products/MH11_resistivity_rock_2017.csv\") \n",
    "# Preview the first 5 lines of the loaded data \n",
    "data = pd.read_csv(\"data/labels.csv\") \n",
    "#pd.DataFrame.plot.line(data)\n",
    "data"
   ]
  },
  {
   "cell_type": "code",
   "execution_count": null,
   "metadata": {},
   "outputs": [],
   "source": [
    "labels = np.array([2,30,330,102,35,67,82,230])\n",
    "bins = np.array([1,90,180,270,360])\n",
    "np.histogram(labels, bins)\n",
    "np.digitize(labels,bins)"
   ]
  },
  {
   "cell_type": "code",
   "execution_count": null,
   "metadata": {},
   "outputs": [],
   "source": [
    "for batch_idx, sample in enumerate(train_data_loader):\n",
    "    images, labels = sample\n",
    "    labels_q = np.digitize(labels,bins)\n",
    "    plt.imshow(  sample[0][0].permute(1, 2, 0)  )\n"
   ]
  },
  {
   "cell_type": "code",
   "execution_count": null,
   "metadata": {},
   "outputs": [],
   "source": [
    "max_val = 0\n",
    "min_val = 100\n",
    "for i, sample in tqdm(enumerate(train_data_loader, 0)):\n",
    "    max_tmp = torch.max(sample[1])\n",
    "    min_tmp = torch.min(sample[1])\n",
    "\n",
    "    if max_tmp > max_val:\n",
    "        max_val = max_tmp\n",
    "    if min_tmp < min_val:\n",
    "        min_val = min_tmp\n",
    "\n",
    "print(max_val)\n",
    "print(min_val)"
   ]
  },
  {
   "cell_type": "code",
   "execution_count": null,
   "metadata": {},
   "outputs": [],
   "source": [
    "resnet18 = models.resnet18()"
   ]
  }
 ],
 "metadata": {
  "kernelspec": {
   "display_name": "Python 3",
   "language": "python",
   "name": "python3"
  },
  "language_info": {
   "codemirror_mode": {
    "name": "ipython",
    "version": 3
   },
   "file_extension": ".py",
   "mimetype": "text/x-python",
   "name": "python",
   "nbconvert_exporter": "python",
   "pygments_lexer": "ipython3",
   "version": "3.7.4"
  }
 },
 "nbformat": 4,
 "nbformat_minor": 4
}
