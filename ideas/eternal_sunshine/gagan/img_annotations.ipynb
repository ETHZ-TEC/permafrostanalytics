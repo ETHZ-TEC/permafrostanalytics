{
 "cells": [
  {
   "cell_type": "code",
   "execution_count": 1,
   "metadata": {},
   "outputs": [],
   "source": [
    "import numpy as np\n",
    "import pandas as pd"
   ]
  },
  {
   "cell_type": "code",
   "execution_count": 2,
   "metadata": {},
   "outputs": [],
   "source": [
    "labels = pd.read_csv('/Users/gagan/Desktop/permafrost_data/annotations/automatic_labels_mountaineers.csv')"
   ]
  },
  {
   "cell_type": "code",
   "execution_count": 5,
   "metadata": {},
   "outputs": [
    {
     "data": {
      "text/html": [
       "<div>\n",
       "<style scoped>\n",
       "    .dataframe tbody tr th:only-of-type {\n",
       "        vertical-align: middle;\n",
       "    }\n",
       "\n",
       "    .dataframe tbody tr th {\n",
       "        vertical-align: top;\n",
       "    }\n",
       "\n",
       "    .dataframe thead th {\n",
       "        text-align: right;\n",
       "    }\n",
       "</style>\n",
       "<table border=\"1\" class=\"dataframe\">\n",
       "  <thead>\n",
       "    <tr style=\"text-align: right;\">\n",
       "      <th></th>\n",
       "      <th>start_time</th>\n",
       "      <th>end_time</th>\n",
       "      <th>start_x</th>\n",
       "      <th>end_x</th>\n",
       "      <th>start_y</th>\n",
       "      <th>end_y</th>\n",
       "      <th>__target</th>\n",
       "    </tr>\n",
       "  </thead>\n",
       "  <tbody>\n",
       "    <tr>\n",
       "      <th>0</th>\n",
       "      <td>2018-04-14 04:00:00+00:00</td>\n",
       "      <td>2018-04-14 04:02:00+00:00</td>\n",
       "      <td>NaN</td>\n",
       "      <td>NaN</td>\n",
       "      <td>NaN</td>\n",
       "      <td>NaN</td>\n",
       "      <td>mountaineer</td>\n",
       "    </tr>\n",
       "    <tr>\n",
       "      <th>1</th>\n",
       "      <td>2018-04-14 04:02:00+00:00</td>\n",
       "      <td>2018-04-14 04:04:00+00:00</td>\n",
       "      <td>NaN</td>\n",
       "      <td>NaN</td>\n",
       "      <td>NaN</td>\n",
       "      <td>NaN</td>\n",
       "      <td>NaN</td>\n",
       "    </tr>\n",
       "    <tr>\n",
       "      <th>2</th>\n",
       "      <td>2018-04-14 04:04:00+00:00</td>\n",
       "      <td>2018-04-14 04:06:00+00:00</td>\n",
       "      <td>NaN</td>\n",
       "      <td>NaN</td>\n",
       "      <td>NaN</td>\n",
       "      <td>NaN</td>\n",
       "      <td>NaN</td>\n",
       "    </tr>\n",
       "    <tr>\n",
       "      <th>3</th>\n",
       "      <td>2018-04-14 04:06:00+00:00</td>\n",
       "      <td>2018-04-14 04:08:00+00:00</td>\n",
       "      <td>NaN</td>\n",
       "      <td>NaN</td>\n",
       "      <td>NaN</td>\n",
       "      <td>NaN</td>\n",
       "      <td>NaN</td>\n",
       "    </tr>\n",
       "    <tr>\n",
       "      <th>4</th>\n",
       "      <td>2018-04-14 04:08:00+00:00</td>\n",
       "      <td>2018-04-14 04:10:00+00:00</td>\n",
       "      <td>NaN</td>\n",
       "      <td>NaN</td>\n",
       "      <td>NaN</td>\n",
       "      <td>NaN</td>\n",
       "      <td>NaN</td>\n",
       "    </tr>\n",
       "    <tr>\n",
       "      <th>5</th>\n",
       "      <td>2018-04-14 04:10:00+00:00</td>\n",
       "      <td>2018-04-14 04:12:00+00:00</td>\n",
       "      <td>NaN</td>\n",
       "      <td>NaN</td>\n",
       "      <td>NaN</td>\n",
       "      <td>NaN</td>\n",
       "      <td>NaN</td>\n",
       "    </tr>\n",
       "    <tr>\n",
       "      <th>6</th>\n",
       "      <td>2018-04-14 04:12:00+00:00</td>\n",
       "      <td>2018-04-14 04:14:00+00:00</td>\n",
       "      <td>NaN</td>\n",
       "      <td>NaN</td>\n",
       "      <td>NaN</td>\n",
       "      <td>NaN</td>\n",
       "      <td>NaN</td>\n",
       "    </tr>\n",
       "    <tr>\n",
       "      <th>7</th>\n",
       "      <td>2018-04-14 04:14:00+00:00</td>\n",
       "      <td>2018-04-14 04:16:00+00:00</td>\n",
       "      <td>NaN</td>\n",
       "      <td>NaN</td>\n",
       "      <td>NaN</td>\n",
       "      <td>NaN</td>\n",
       "      <td>NaN</td>\n",
       "    </tr>\n",
       "    <tr>\n",
       "      <th>8</th>\n",
       "      <td>2018-04-14 04:16:00+00:00</td>\n",
       "      <td>2018-04-14 04:18:00+00:00</td>\n",
       "      <td>NaN</td>\n",
       "      <td>NaN</td>\n",
       "      <td>NaN</td>\n",
       "      <td>NaN</td>\n",
       "      <td>NaN</td>\n",
       "    </tr>\n",
       "    <tr>\n",
       "      <th>9</th>\n",
       "      <td>2018-04-14 04:18:00+00:00</td>\n",
       "      <td>2018-04-14 04:20:00+00:00</td>\n",
       "      <td>NaN</td>\n",
       "      <td>NaN</td>\n",
       "      <td>NaN</td>\n",
       "      <td>NaN</td>\n",
       "      <td>NaN</td>\n",
       "    </tr>\n",
       "  </tbody>\n",
       "</table>\n",
       "</div>"
      ],
      "text/plain": [
       "                  start_time                   end_time  start_x  end_x  \\\n",
       "0  2018-04-14 04:00:00+00:00  2018-04-14 04:02:00+00:00      NaN    NaN   \n",
       "1  2018-04-14 04:02:00+00:00  2018-04-14 04:04:00+00:00      NaN    NaN   \n",
       "2  2018-04-14 04:04:00+00:00  2018-04-14 04:06:00+00:00      NaN    NaN   \n",
       "3  2018-04-14 04:06:00+00:00  2018-04-14 04:08:00+00:00      NaN    NaN   \n",
       "4  2018-04-14 04:08:00+00:00  2018-04-14 04:10:00+00:00      NaN    NaN   \n",
       "5  2018-04-14 04:10:00+00:00  2018-04-14 04:12:00+00:00      NaN    NaN   \n",
       "6  2018-04-14 04:12:00+00:00  2018-04-14 04:14:00+00:00      NaN    NaN   \n",
       "7  2018-04-14 04:14:00+00:00  2018-04-14 04:16:00+00:00      NaN    NaN   \n",
       "8  2018-04-14 04:16:00+00:00  2018-04-14 04:18:00+00:00      NaN    NaN   \n",
       "9  2018-04-14 04:18:00+00:00  2018-04-14 04:20:00+00:00      NaN    NaN   \n",
       "\n",
       "   start_y  end_y     __target  \n",
       "0      NaN    NaN  mountaineer  \n",
       "1      NaN    NaN          NaN  \n",
       "2      NaN    NaN          NaN  \n",
       "3      NaN    NaN          NaN  \n",
       "4      NaN    NaN          NaN  \n",
       "5      NaN    NaN          NaN  \n",
       "6      NaN    NaN          NaN  \n",
       "7      NaN    NaN          NaN  \n",
       "8      NaN    NaN          NaN  \n",
       "9      NaN    NaN          NaN  "
      ]
     },
     "execution_count": 5,
     "metadata": {},
     "output_type": "execute_result"
    }
   ],
   "source": [
    "labels.head(10)"
   ]
  },
  {
   "cell_type": "code",
   "execution_count": 6,
   "metadata": {},
   "outputs": [],
   "source": [
    "all_mountaineers = labels['__target'] == 'mountaineer'"
   ]
  },
  {
   "cell_type": "code",
   "execution_count": 10,
   "metadata": {},
   "outputs": [],
   "source": [
    "all_mountaineers = np.where(all_mountaineers == True)[0]"
   ]
  },
  {
   "cell_type": "code",
   "execution_count": 11,
   "metadata": {},
   "outputs": [
    {
     "data": {
      "text/plain": [
       "(72903,)"
      ]
     },
     "execution_count": 11,
     "metadata": {},
     "output_type": "execute_result"
    }
   ],
   "source": [
    "all_mountaineers.shape"
   ]
  },
  {
   "cell_type": "code",
   "execution_count": 12,
   "metadata": {},
   "outputs": [],
   "source": [
    "times = labels.loc[all_mountaineers, 'start_time']"
   ]
  },
  {
   "cell_type": "code",
   "execution_count": 17,
   "metadata": {},
   "outputs": [],
   "source": [
    "order = np.random.permutation(len(times))\n",
    "times = times.iloc[order]"
   ]
  },
  {
   "cell_type": "code",
   "execution_count": 18,
   "metadata": {},
   "outputs": [
    {
     "data": {
      "text/plain": [
       "228271    2016-07-30 17:02:00+00:00\n",
       "317314    2017-07-22 10:08:00+00:00\n",
       "130004    2017-07-16 06:28:00+00:00\n",
       "180328    2018-08-09 02:56:00+00:00\n",
       "538850    2016-07-16 13:40:00+00:00\n",
       "239533    2017-07-30 09:26:00+00:00\n",
       "623057    2016-08-16 12:34:00+00:00\n",
       "827847    2015-06-17 12:54:00+00:00\n",
       "478728    2015-12-04 00:36:00+00:00\n",
       "639045    2017-07-28 06:30:00+00:00\n",
       "829010    2017-09-07 06:40:00+00:00\n",
       "288197    2016-07-24 10:34:00+00:00\n",
       "418693    2018-09-12 16:26:00+00:00\n",
       "373752    2016-08-25 18:24:00+00:00\n",
       "445505    2017-08-27 11:10:00+00:00\n",
       "217599    2018-08-19 09:18:00+00:00\n",
       "23661     2018-08-12 12:42:00+00:00\n",
       "248205    2015-08-31 03:30:00+00:00\n",
       "769748    2016-08-28 10:16:00+00:00\n",
       "585349    2017-08-07 04:38:00+00:00\n",
       "191346    2018-07-20 10:12:00+00:00\n",
       "113398    2018-08-21 03:56:00+00:00\n",
       "803972    2015-06-05 21:04:00+00:00\n",
       "299813    2018-04-11 13:46:00+00:00\n",
       "222838    2018-08-11 15:56:00+00:00\n",
       "397303    2016-07-09 11:26:00+00:00\n",
       "722726    2016-07-17 14:52:00+00:00\n",
       "417239    2018-08-15 03:58:00+00:00\n",
       "621239    2018-07-11 11:58:00+00:00\n",
       "509584    2018-07-17 10:08:00+00:00\n",
       "188652    2017-08-29 05:24:00+00:00\n",
       "664059    2017-08-21 12:18:00+00:00\n",
       "158592    2017-08-02 11:24:00+00:00\n",
       "582495    2016-07-07 04:30:00+00:00\n",
       "499655    2017-10-07 04:10:00+00:00\n",
       "160338    2017-08-20 09:36:00+00:00\n",
       "769670    2016-08-28 07:40:00+00:00\n",
       "769699    2016-08-28 08:38:00+00:00\n",
       "692168    2018-08-22 04:16:00+00:00\n",
       "115164    2018-08-01 02:48:00+00:00\n",
       "Name: start_time, dtype: object"
      ]
     },
     "execution_count": 18,
     "metadata": {},
     "output_type": "execute_result"
    }
   ],
   "source": [
    "times[:40]"
   ]
  },
  {
   "cell_type": "code",
   "execution_count": null,
   "metadata": {},
   "outputs": [],
   "source": []
  }
 ],
 "metadata": {
  "kernelspec": {
   "display_name": "Python 3",
   "language": "python",
   "name": "python3"
  },
  "language_info": {
   "codemirror_mode": {
    "name": "ipython",
    "version": 3
   },
   "file_extension": ".py",
   "mimetype": "text/x-python",
   "name": "python",
   "nbconvert_exporter": "python",
   "pygments_lexer": "ipython3",
   "version": "3.7.0"
  }
 },
 "nbformat": 4,
 "nbformat_minor": 4
}
