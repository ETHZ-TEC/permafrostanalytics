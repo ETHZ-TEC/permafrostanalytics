{
 "cells": [
  {
   "cell_type": "code",
   "execution_count": 1,
   "metadata": {},
   "outputs": [],
   "source": [
    "import numpy as np\n",
    "import pandas as pd"
   ]
  },
  {
   "cell_type": "code",
   "execution_count": 75,
   "metadata": {},
   "outputs": [],
   "source": [
    "import matplotlib.pyplot as plt"
   ]
  },
  {
   "cell_type": "code",
   "execution_count": 5,
   "metadata": {},
   "outputs": [],
   "source": [
    "import os"
   ]
  },
  {
   "cell_type": "code",
   "execution_count": 143,
   "metadata": {},
   "outputs": [],
   "source": [
    "from scipy.stats import zscore"
   ]
  },
  {
   "cell_type": "code",
   "execution_count": 37,
   "metadata": {},
   "outputs": [],
   "source": [
    "import pdb"
   ]
  },
  {
   "cell_type": "code",
   "execution_count": 60,
   "metadata": {},
   "outputs": [],
   "source": [
    "def get_all_frac_disp(pathtodata, year = '2016', name = 'displacement', nanlimit = 100):\n",
    "    fls = os.listdir(pathtodata)\n",
    "    fls = [f for f in fls if (name in f) and (year in f) ]\n",
    "    df = []\n",
    "    Pos = []\n",
    "    for f in fls:\n",
    "        d = pd.read_csv(os.path.join(pathtodata, f))\n",
    "        # get the sensor position\n",
    "        pos = d.loc[0,'position []']\n",
    "        if np.isnan(pos):\n",
    "            continue\n",
    "        pos = int(pos)\n",
    "        # get the right columns\n",
    "        dc = d.loc[:, d.columns.str.startswith(name)]\n",
    "        # check for nan in each column\n",
    "        totnan = [dc.iloc[:,i].isna().sum() for i in range(dc.shape[-1])]\n",
    "        #pdb.set_trace()\n",
    "        print('for sensor %d, totnan : %d'%(pos, np.sum(totnan)))\n",
    "        # go over all channels\n",
    "        #to_drop = []\n",
    "        #for i in range(dc.shape[-1]):\n",
    "        #    totnan = dc.iloc[:,i].isna().sum()\n",
    "        #    if totnan > nanlimit:\n",
    "        #        to_drop.append(dc.columns[i])\n",
    "        #dc = pd.concat([dc.drop(i, axis=1) for i in to_drop],axis=1)\n",
    "        print(dc.isna().sum())\n",
    "        df.append(dc)\n",
    "        Pos.append(pos)\n",
    "    return df, Pos"
   ]
  },
  {
   "cell_type": "code",
   "execution_count": 67,
   "metadata": {},
   "outputs": [
    {
     "name": "stdout",
     "output_type": "stream",
     "text": [
      "for sensor 21, totnan : 0\n",
      "displacement_dx1 [mm]    0\n",
      "displacement_dx2 [mm]    0\n",
      "dtype: int64\n",
      "for sensor 1, totnan : 8760\n",
      "displacement_dx1 [mm]    8760\n",
      "dtype: int64\n",
      "for sensor 9, totnan : 4530\n",
      "displacement_dx1 [mm]    2676\n",
      "displacement_dx2 [mm]     927\n",
      "displacement_dx3 [mm]     927\n",
      "dtype: int64\n",
      "for sensor 3, totnan : 0\n",
      "displacement_dx1 [mm]    0\n",
      "dtype: int64\n",
      "for sensor 4, totnan : 0\n",
      "displacement_dx1 [mm]    0\n",
      "dtype: int64\n",
      "for sensor 20, totnan : 8780\n",
      "displacement_dx1 [mm]    8760\n",
      "displacement_dx2 [mm]      20\n",
      "dtype: int64\n",
      "for sensor 6, totnan : 0\n",
      "displacement_dx1 [mm]    0\n",
      "displacement_dx2 [mm]    0\n",
      "dtype: int64\n",
      "for sensor 22, totnan : 5016\n",
      "displacement_dx1 [mm]       0\n",
      "displacement_dx2 [mm]    5016\n",
      "dtype: int64\n",
      "for sensor 18, totnan : 0\n",
      "displacement_dx1 [mm]    0\n",
      "dtype: int64\n",
      "for sensor 8, totnan : 2155\n",
      "displacement_dx1 [mm]     408\n",
      "displacement_dx2 [mm]    1747\n",
      "dtype: int64\n",
      "for sensor 2, totnan : 444\n",
      "displacement_dx1 [mm]    222\n",
      "displacement_dx2 [mm]    222\n",
      "dtype: int64\n"
     ]
    }
   ],
   "source": [
    "df, pos = get_all_frac_disp(pathtodata='/Users/gagan/Desktop/permafrost_data/timeseries_derived_data_products 2/', year = '2018')"
   ]
  },
  {
   "cell_type": "code",
   "execution_count": 56,
   "metadata": {},
   "outputs": [
    {
     "data": {
      "text/plain": [
       "[21, 1, 9, 3, 4, 20, 6, 22, 18, 8, 2]"
      ]
     },
     "execution_count": 56,
     "metadata": {},
     "output_type": "execute_result"
    }
   ],
   "source": [
    "pos"
   ]
  },
  {
   "cell_type": "code",
   "execution_count": 57,
   "metadata": {},
   "outputs": [
    {
     "data": {
      "text/html": [
       "<div>\n",
       "<style scoped>\n",
       "    .dataframe tbody tr th:only-of-type {\n",
       "        vertical-align: middle;\n",
       "    }\n",
       "\n",
       "    .dataframe tbody tr th {\n",
       "        vertical-align: top;\n",
       "    }\n",
       "\n",
       "    .dataframe thead th {\n",
       "        text-align: right;\n",
       "    }\n",
       "</style>\n",
       "<table border=\"1\" class=\"dataframe\">\n",
       "  <thead>\n",
       "    <tr style=\"text-align: right;\">\n",
       "      <th></th>\n",
       "      <th>displacement_dx1 [mm]</th>\n",
       "      <th>displacement_dx2 [mm]</th>\n",
       "    </tr>\n",
       "  </thead>\n",
       "  <tbody>\n",
       "    <tr>\n",
       "      <th>0</th>\n",
       "      <td>-0.7305</td>\n",
       "      <td>0.4491</td>\n",
       "    </tr>\n",
       "    <tr>\n",
       "      <th>1</th>\n",
       "      <td>-0.7300</td>\n",
       "      <td>0.4496</td>\n",
       "    </tr>\n",
       "    <tr>\n",
       "      <th>2</th>\n",
       "      <td>-0.7301</td>\n",
       "      <td>0.4495</td>\n",
       "    </tr>\n",
       "    <tr>\n",
       "      <th>3</th>\n",
       "      <td>-0.7301</td>\n",
       "      <td>0.4499</td>\n",
       "    </tr>\n",
       "  </tbody>\n",
       "</table>\n",
       "</div>"
      ],
      "text/plain": [
       "   displacement_dx1 [mm]  displacement_dx2 [mm]\n",
       "0                -0.7305                 0.4491\n",
       "1                -0.7300                 0.4496\n",
       "2                -0.7301                 0.4495\n",
       "3                -0.7301                 0.4499"
      ]
     },
     "execution_count": 57,
     "metadata": {},
     "output_type": "execute_result"
    }
   ],
   "source": [
    "df[-1].head(4)"
   ]
  },
  {
   "cell_type": "code",
   "execution_count": 68,
   "metadata": {},
   "outputs": [],
   "source": [
    "frac21 = df[0]\n",
    "frac03 = df[3]\n",
    "frac04 = df[4]\n",
    "frac02 = df[-1]\n",
    "frac18 = df[-3]"
   ]
  },
  {
   "cell_type": "code",
   "execution_count": 92,
   "metadata": {},
   "outputs": [],
   "source": [
    "df2 = pd.concat([frac21, frac03, frac04, frac02, frac18], axis = 1)"
   ]
  },
  {
   "cell_type": "code",
   "execution_count": 94,
   "metadata": {},
   "outputs": [],
   "source": [
    "df2.columns = ['F21_01', 'F21_02', 'F03_1','F04_1', 'F02_1', 'F02_2','F18']"
   ]
  },
  {
   "cell_type": "code",
   "execution_count": 95,
   "metadata": {},
   "outputs": [
    {
     "data": {
      "text/plain": [
       "(8760, 7)"
      ]
     },
     "execution_count": 95,
     "metadata": {},
     "output_type": "execute_result"
    }
   ],
   "source": [
    "df2.shape"
   ]
  },
  {
   "cell_type": "code",
   "execution_count": 96,
   "metadata": {},
   "outputs": [],
   "source": [
    "# fill missing values\n",
    "df3 = df2.fillna(method='ffill')"
   ]
  },
  {
   "cell_type": "code",
   "execution_count": 198,
   "metadata": {},
   "outputs": [
    {
     "data": {
      "text/html": [
       "<div>\n",
       "<style scoped>\n",
       "    .dataframe tbody tr th:only-of-type {\n",
       "        vertical-align: middle;\n",
       "    }\n",
       "\n",
       "    .dataframe tbody tr th {\n",
       "        vertical-align: top;\n",
       "    }\n",
       "\n",
       "    .dataframe thead th {\n",
       "        text-align: right;\n",
       "    }\n",
       "</style>\n",
       "<table border=\"1\" class=\"dataframe\">\n",
       "  <thead>\n",
       "    <tr style=\"text-align: right;\">\n",
       "      <th></th>\n",
       "      <th>F21_01</th>\n",
       "      <th>F21_02</th>\n",
       "      <th>F03_1</th>\n",
       "      <th>F04_1</th>\n",
       "      <th>F02_1</th>\n",
       "      <th>F02_2</th>\n",
       "      <th>F18</th>\n",
       "    </tr>\n",
       "  </thead>\n",
       "  <tbody>\n",
       "    <tr>\n",
       "      <th>0</th>\n",
       "      <td>-0.0639</td>\n",
       "      <td>1.4590</td>\n",
       "      <td>9.1875</td>\n",
       "      <td>6.9095</td>\n",
       "      <td>-0.7305</td>\n",
       "      <td>0.4491</td>\n",
       "      <td>30.2840</td>\n",
       "    </tr>\n",
       "    <tr>\n",
       "      <th>1</th>\n",
       "      <td>-0.0656</td>\n",
       "      <td>1.4619</td>\n",
       "      <td>9.1971</td>\n",
       "      <td>6.9199</td>\n",
       "      <td>-0.7300</td>\n",
       "      <td>0.4496</td>\n",
       "      <td>30.2841</td>\n",
       "    </tr>\n",
       "    <tr>\n",
       "      <th>2</th>\n",
       "      <td>-0.0663</td>\n",
       "      <td>1.4633</td>\n",
       "      <td>9.1978</td>\n",
       "      <td>6.9217</td>\n",
       "      <td>-0.7301</td>\n",
       "      <td>0.4495</td>\n",
       "      <td>30.2837</td>\n",
       "    </tr>\n",
       "  </tbody>\n",
       "</table>\n",
       "</div>"
      ],
      "text/plain": [
       "   F21_01  F21_02   F03_1   F04_1   F02_1   F02_2      F18\n",
       "0 -0.0639  1.4590  9.1875  6.9095 -0.7305  0.4491  30.2840\n",
       "1 -0.0656  1.4619  9.1971  6.9199 -0.7300  0.4496  30.2841\n",
       "2 -0.0663  1.4633  9.1978  6.9217 -0.7301  0.4495  30.2837"
      ]
     },
     "execution_count": 198,
     "metadata": {},
     "output_type": "execute_result"
    }
   ],
   "source": [
    "df3.head(3)"
   ]
  },
  {
   "cell_type": "code",
   "execution_count": 128,
   "metadata": {},
   "outputs": [
    {
     "data": {
      "text/plain": [
       "(8760,)"
      ]
     },
     "execution_count": 128,
     "metadata": {},
     "output_type": "execute_result"
    }
   ],
   "source": [
    "tim = np.linspace(1, 365, df2.shape[0])\n",
    "tim.shape"
   ]
  },
  {
   "cell_type": "code",
   "execution_count": 170,
   "metadata": {},
   "outputs": [
    {
     "data": {
      "text/plain": [
       "Text(0.5, 1.0, '2018')"
      ]
     },
     "execution_count": 170,
     "metadata": {},
     "output_type": "execute_result"
    },
    {
     "data": {
      "image/png": "[encoded data removed]",
      "text/plain": [
       "<Figure size 1080x504 with 1 Axes>"
      ]
     },
     "metadata": {
      "needs_background": "light"
     },
     "output_type": "display_data"
    }
   ],
   "source": [
    "plt.figure(figsize=(15,7))\n",
    "plt.rcParams.update({'font.size':18})\n",
    "plt.plot(tim, zscore(df3.loc[:,'F18']))\n",
    "plt.plot(tim, zscore(df3.loc[:,'F02_1']))\n",
    "plt.plot(tim,xcorr,'-k')\n",
    "#plt.fill_between()\n",
    "plt.xlabel('Days')\n",
    "plt.ylabel('Standardized displacement')\n",
    "plt.legend(['FracDisp MH18','FracDisp MH02', 'Normalizd cross correlation'])\n",
    "plt.title('2018')\n",
    "#plt.savefig('/Users/gagan/Desktop/permafrost_data/frac_disp_MH18_02_2_1.jpg', dpi = 50, format='jpg')\n",
    "#plt.close()"
   ]
  },
  {
   "cell_type": "markdown",
   "metadata": {},
   "source": []
  },
  {
   "cell_type": "code",
   "execution_count": 80,
   "metadata": {},
   "outputs": [],
   "source": [
    "from scipy.signal import correlate, coherence"
   ]
  },
  {
   "cell_type": "code",
   "execution_count": 166,
   "metadata": {},
   "outputs": [],
   "source": [
    "xcorr = correlate(df3['F18'], df3['F02_2'], mode='same')\n",
    "xcorr = xcorr / np.max(np.abs(xcorr))"
   ]
  },
  {
   "cell_type": "code",
   "execution_count": null,
   "metadata": {},
   "outputs": [],
   "source": []
  },
  {
   "cell_type": "markdown",
   "metadata": {},
   "source": [
    "# SARIMAX"
   ]
  },
  {
   "cell_type": "code",
   "execution_count": 87,
   "metadata": {},
   "outputs": [],
   "source": [
    "from statsmodels.tsa.statespace.sarimax import SARIMAX"
   ]
  },
  {
   "cell_type": "code",
   "execution_count": 192,
   "metadata": {},
   "outputs": [],
   "source": [
    "Ydata = (df3.loc[:,'F02_1'] - df3.loc[:,'F02_1'].mean()) / df3.loc[:,'F02_1'].std()\n",
    "#Xdata = df2.loc[:,['F03','F04','F06','F18','F20','F21','T30_2','T30_5', 'T10_5','Tfrac07_4','Tfrac03_6','ResRock10_4']]\n",
    "Xdata = df3.loc[:, ['F21_01', 'F21_02', 'F03_1','F04_1','F02_2','F18']]"
   ]
  },
  {
   "cell_type": "code",
   "execution_count": 193,
   "metadata": {},
   "outputs": [],
   "source": [
    "Xdata = (Xdata - Xdata.mean()) / Xdata.std()"
   ]
  },
  {
   "cell_type": "code",
   "execution_count": 194,
   "metadata": {},
   "outputs": [
    {
     "data": {
      "text/plain": [
       "(8760, 6)"
      ]
     },
     "execution_count": 194,
     "metadata": {},
     "output_type": "execute_result"
    }
   ],
   "source": [
    "Xdata.shape"
   ]
  },
  {
   "cell_type": "code",
   "execution_count": 195,
   "metadata": {},
   "outputs": [],
   "source": [
    "smx = SARIMAX(endog=Ydata, exog=Xdata, order=(1,0,1), seasonal_order=(0,0,0,0), simple_differencing=True)"
   ]
  },
  {
   "cell_type": "code",
   "execution_count": 196,
   "metadata": {},
   "outputs": [
    {
     "name": "stderr",
     "output_type": "stream",
     "text": [
      "/Users/gagan/anaconda3/envs/permafrost/lib/python3.7/site-packages/statsmodels/base/model.py:512: ConvergenceWarning: Maximum Likelihood optimization failed to converge. Check mle_retvals\n",
      "  \"Check mle_retvals\", ConvergenceWarning)\n"
     ]
    }
   ],
   "source": [
    "results = smx.fit()"
   ]
  },
  {
   "cell_type": "code",
   "execution_count": null,
   "metadata": {},
   "outputs": [],
   "source": []
  },
  {
   "cell_type": "markdown",
   "metadata": {},
   "source": [
    "# temperature fracture"
   ]
  },
  {
   "cell_type": "code",
   "execution_count": 173,
   "metadata": {},
   "outputs": [],
   "source": [
    "PA = os.listdir('/Users/gagan/Desktop/permafrost_data/timeseries_derived_data_products 2/')"
   ]
  },
  {
   "cell_type": "code",
   "execution_count": 174,
   "metadata": {},
   "outputs": [
    {
     "data": {
      "text/plain": [
       "['MH04_temperature_fracture_2018.csv',\n",
       " 'MH03_temperature_fracture_2018.csv',\n",
       " 'MH05_temperature_fracture_2018.csv',\n",
       " 'MH09_temperature_fracture_2018.csv',\n",
       " 'MH07_temperature_fracture_2018.csv']"
      ]
     },
     "execution_count": 174,
     "metadata": {},
     "output_type": "execute_result"
    }
   ],
   "source": [
    "frac_temp_fls = [f for f in PA if 'temperature_fracture' in f and '2018' in f]\n",
    "frac_temp_fls"
   ]
  },
  {
   "cell_type": "code",
   "execution_count": 188,
   "metadata": {},
   "outputs": [],
   "source": [
    "frac = pd.read_csv('/Users/gagan/Desktop/permafrost_data/timeseries_derived_data_products 2/MH03_temperature_fracture_2018.csv')"
   ]
  },
  {
   "cell_type": "code",
   "execution_count": 189,
   "metadata": {},
   "outputs": [
    {
     "data": {
      "text/plain": [
       "time                     0\n",
       "position []              0\n",
       "device_id []             0\n",
       "temperature_10cm [°C]    0\n",
       "temperature_40cm [°C]    0\n",
       "temperature_60cm [°C]    0\n",
       "temperature_70cm [°C]    0\n",
       "temperature_75cm [°C]    0\n",
       "temperature_80cm [°C]    0\n",
       "temperature_85cm [°C]    0\n",
       "ref1 [°C]                0\n",
       "ref2 [°C]                0\n",
       "ref4 [°C]                0\n",
       "dtype: int64"
      ]
     },
     "execution_count": 189,
     "metadata": {},
     "output_type": "execute_result"
    }
   ],
   "source": [
    "frac.isna().sum()"
   ]
  },
  {
   "cell_type": "code",
   "execution_count": 190,
   "metadata": {},
   "outputs": [
    {
     "data": {
      "text/html": [
       "<div>\n",
       "<style scoped>\n",
       "    .dataframe tbody tr th:only-of-type {\n",
       "        vertical-align: middle;\n",
       "    }\n",
       "\n",
       "    .dataframe tbody tr th {\n",
       "        vertical-align: top;\n",
       "    }\n",
       "\n",
       "    .dataframe thead th {\n",
       "        text-align: right;\n",
       "    }\n",
       "</style>\n",
       "<table border=\"1\" class=\"dataframe\">\n",
       "  <thead>\n",
       "    <tr style=\"text-align: right;\">\n",
       "      <th></th>\n",
       "      <th>time</th>\n",
       "      <th>position []</th>\n",
       "      <th>device_id []</th>\n",
       "      <th>temperature_10cm [°C]</th>\n",
       "      <th>temperature_40cm [°C]</th>\n",
       "      <th>temperature_60cm [°C]</th>\n",
       "      <th>temperature_70cm [°C]</th>\n",
       "      <th>temperature_75cm [°C]</th>\n",
       "      <th>temperature_80cm [°C]</th>\n",
       "      <th>temperature_85cm [°C]</th>\n",
       "      <th>ref1 [°C]</th>\n",
       "      <th>ref2 [°C]</th>\n",
       "      <th>ref4 [°C]</th>\n",
       "    </tr>\n",
       "  </thead>\n",
       "  <tbody>\n",
       "    <tr>\n",
       "      <th>0</th>\n",
       "      <td>2018-01-01T00:00:00Z</td>\n",
       "      <td>3.0</td>\n",
       "      <td>2124.0</td>\n",
       "      <td>-9.5933</td>\n",
       "      <td>-9.1160</td>\n",
       "      <td>-9.2611</td>\n",
       "      <td>-8.7546</td>\n",
       "      <td>-9.2110</td>\n",
       "      <td>-8.2396</td>\n",
       "      <td>-8.5146</td>\n",
       "      <td>2.0473</td>\n",
       "      <td>-9.5818</td>\n",
       "      <td>2.0445</td>\n",
       "    </tr>\n",
       "    <tr>\n",
       "      <th>1</th>\n",
       "      <td>2018-01-01T01:00:00Z</td>\n",
       "      <td>3.0</td>\n",
       "      <td>2124.0</td>\n",
       "      <td>-9.9219</td>\n",
       "      <td>-9.4115</td>\n",
       "      <td>-9.7639</td>\n",
       "      <td>-8.9227</td>\n",
       "      <td>-9.6264</td>\n",
       "      <td>-8.3489</td>\n",
       "      <td>-8.5675</td>\n",
       "      <td>2.0467</td>\n",
       "      <td>-9.5826</td>\n",
       "      <td>2.0440</td>\n",
       "    </tr>\n",
       "    <tr>\n",
       "      <th>2</th>\n",
       "      <td>2018-01-01T02:00:00Z</td>\n",
       "      <td>3.0</td>\n",
       "      <td>2124.0</td>\n",
       "      <td>-9.8861</td>\n",
       "      <td>-9.4396</td>\n",
       "      <td>-9.7414</td>\n",
       "      <td>-8.9062</td>\n",
       "      <td>-9.5959</td>\n",
       "      <td>-8.4040</td>\n",
       "      <td>-8.5039</td>\n",
       "      <td>2.0470</td>\n",
       "      <td>-9.5825</td>\n",
       "      <td>2.0442</td>\n",
       "    </tr>\n",
       "  </tbody>\n",
       "</table>\n",
       "</div>"
      ],
      "text/plain": [
       "                   time  position []  device_id []  temperature_10cm [°C]  \\\n",
       "0  2018-01-01T00:00:00Z          3.0        2124.0                -9.5933   \n",
       "1  2018-01-01T01:00:00Z          3.0        2124.0                -9.9219   \n",
       "2  2018-01-01T02:00:00Z          3.0        2124.0                -9.8861   \n",
       "\n",
       "   temperature_40cm [°C]  temperature_60cm [°C]  temperature_70cm [°C]  \\\n",
       "0                -9.1160                -9.2611                -8.7546   \n",
       "1                -9.4115                -9.7639                -8.9227   \n",
       "2                -9.4396                -9.7414                -8.9062   \n",
       "\n",
       "   temperature_75cm [°C]  temperature_80cm [°C]  temperature_85cm [°C]  \\\n",
       "0                -9.2110                -8.2396                -8.5146   \n",
       "1                -9.6264                -8.3489                -8.5675   \n",
       "2                -9.5959                -8.4040                -8.5039   \n",
       "\n",
       "   ref1 [°C]  ref2 [°C]  ref4 [°C]  \n",
       "0     2.0473    -9.5818     2.0445  \n",
       "1     2.0467    -9.5826     2.0440  \n",
       "2     2.0470    -9.5825     2.0442  "
      ]
     },
     "execution_count": 190,
     "metadata": {},
     "output_type": "execute_result"
    }
   ],
   "source": [
    "frac.head(3)"
   ]
  },
  {
   "cell_type": "code",
   "execution_count": 187,
   "metadata": {},
   "outputs": [
    {
     "data": {
      "text/html": [
       "<div>\n",
       "<style scoped>\n",
       "    .dataframe tbody tr th:only-of-type {\n",
       "        vertical-align: middle;\n",
       "    }\n",
       "\n",
       "    .dataframe tbody tr th {\n",
       "        vertical-align: top;\n",
       "    }\n",
       "\n",
       "    .dataframe thead th {\n",
       "        text-align: right;\n",
       "    }\n",
       "</style>\n",
       "<table border=\"1\" class=\"dataframe\">\n",
       "  <thead>\n",
       "    <tr style=\"text-align: right;\">\n",
       "      <th></th>\n",
       "      <th>temperature_5cm [°C]</th>\n",
       "      <th>temperature_20cm [°C]</th>\n",
       "      <th>temperature_30cm [°C]</th>\n",
       "      <th>temperature_35cm [°C]</th>\n",
       "    </tr>\n",
       "  </thead>\n",
       "  <tbody>\n",
       "    <tr>\n",
       "      <th>0</th>\n",
       "      <td>-9.5783</td>\n",
       "      <td>-10.1262</td>\n",
       "      <td>-9.2995</td>\n",
       "      <td>-9.7552</td>\n",
       "    </tr>\n",
       "    <tr>\n",
       "      <th>1</th>\n",
       "      <td>-9.9718</td>\n",
       "      <td>-10.2574</td>\n",
       "      <td>-9.3480</td>\n",
       "      <td>-9.7349</td>\n",
       "    </tr>\n",
       "  </tbody>\n",
       "</table>\n",
       "</div>"
      ],
      "text/plain": [
       "   temperature_5cm [°C]  temperature_20cm [°C]  temperature_30cm [°C]  \\\n",
       "0               -9.5783               -10.1262                -9.2995   \n",
       "1               -9.9718               -10.2574                -9.3480   \n",
       "\n",
       "   temperature_35cm [°C]  \n",
       "0                -9.7552  \n",
       "1                -9.7349  "
      ]
     },
     "execution_count": 187,
     "metadata": {},
     "output_type": "execute_result"
    }
   ],
   "source": [
    "Tfrac04 = frac.iloc[:, 3:7]\n",
    "Tfrac04.head(2)"
   ]
  },
  {
   "cell_type": "code",
   "execution_count": 191,
   "metadata": {},
   "outputs": [
    {
     "data": {
      "text/html": [
       "<div>\n",
       "<style scoped>\n",
       "    .dataframe tbody tr th:only-of-type {\n",
       "        vertical-align: middle;\n",
       "    }\n",
       "\n",
       "    .dataframe tbody tr th {\n",
       "        vertical-align: top;\n",
       "    }\n",
       "\n",
       "    .dataframe thead th {\n",
       "        text-align: right;\n",
       "    }\n",
       "</style>\n",
       "<table border=\"1\" class=\"dataframe\">\n",
       "  <thead>\n",
       "    <tr style=\"text-align: right;\">\n",
       "      <th></th>\n",
       "      <th>temperature_10cm [°C]</th>\n",
       "      <th>temperature_40cm [°C]</th>\n",
       "      <th>temperature_60cm [°C]</th>\n",
       "      <th>temperature_70cm [°C]</th>\n",
       "      <th>temperature_75cm [°C]</th>\n",
       "      <th>temperature_80cm [°C]</th>\n",
       "      <th>temperature_85cm [°C]</th>\n",
       "    </tr>\n",
       "  </thead>\n",
       "  <tbody>\n",
       "    <tr>\n",
       "      <th>0</th>\n",
       "      <td>-9.5933</td>\n",
       "      <td>-9.1160</td>\n",
       "      <td>-9.2611</td>\n",
       "      <td>-8.7546</td>\n",
       "      <td>-9.2110</td>\n",
       "      <td>-8.2396</td>\n",
       "      <td>-8.5146</td>\n",
       "    </tr>\n",
       "    <tr>\n",
       "      <th>1</th>\n",
       "      <td>-9.9219</td>\n",
       "      <td>-9.4115</td>\n",
       "      <td>-9.7639</td>\n",
       "      <td>-8.9227</td>\n",
       "      <td>-9.6264</td>\n",
       "      <td>-8.3489</td>\n",
       "      <td>-8.5675</td>\n",
       "    </tr>\n",
       "  </tbody>\n",
       "</table>\n",
       "</div>"
      ],
      "text/plain": [
       "   temperature_10cm [°C]  temperature_40cm [°C]  temperature_60cm [°C]  \\\n",
       "0                -9.5933                -9.1160                -9.2611   \n",
       "1                -9.9219                -9.4115                -9.7639   \n",
       "\n",
       "   temperature_70cm [°C]  temperature_75cm [°C]  temperature_80cm [°C]  \\\n",
       "0                -8.7546                -9.2110                -8.2396   \n",
       "1                -8.9227                -9.6264                -8.3489   \n",
       "\n",
       "   temperature_85cm [°C]  \n",
       "0                -8.5146  \n",
       "1                -8.5675  "
      ]
     },
     "execution_count": 191,
     "metadata": {},
     "output_type": "execute_result"
    }
   ],
   "source": [
    "Tfrac03 = frac.iloc[:, 3:10]\n",
    "Tfrac03.head(2)"
   ]
  },
  {
   "cell_type": "markdown",
   "metadata": {},
   "source": [
    "# PCA"
   ]
  },
  {
   "cell_type": "code",
   "execution_count": 199,
   "metadata": {},
   "outputs": [],
   "source": [
    "from sklearn.decomposition import PCA, FastICA"
   ]
  },
  {
   "cell_type": "code",
   "execution_count": 224,
   "metadata": {},
   "outputs": [],
   "source": [
    "pca = PCA(n_components=0.97, whiten=True)\n",
    "xpca = pca.fit_transform(np.array(df3))"
   ]
  },
  {
   "cell_type": "code",
   "execution_count": 225,
   "metadata": {},
   "outputs": [
    {
     "data": {
      "text/plain": [
       "(8760, 3)"
      ]
     },
     "execution_count": 225,
     "metadata": {},
     "output_type": "execute_result"
    }
   ],
   "source": [
    "xpca.shape"
   ]
  },
  {
   "cell_type": "code",
   "execution_count": 236,
   "metadata": {},
   "outputs": [
    {
     "data": {
      "text/plain": [
       "Text(0, 0.5, 'PCA Displacement components')"
      ]
     },
     "execution_count": 236,
     "metadata": {},
     "output_type": "execute_result"
    },
    {
     "data": {
      "image/png": "[encoded data removed]",
      "text/plain": [
       "<Figure size 720x360 with 1 Axes>"
      ]
     },
     "metadata": {
      "needs_background": "light"
     },
     "output_type": "display_data"
    }
   ],
   "source": [
    "plt.figure(figsize=(10,5))\n",
    "plt.plot(tim, xpca)\n",
    "plt.xlabel('Days')\n",
    "plt.title('2018')\n",
    "plt.ylabel('PCA Displacement components')\n",
    "#plt.savefig('/Users/gagan/Desktop/permafrost_data/pca_fracdisp2018.jpg', dpi=50, format ='jpg')\n",
    "#plt.close()"
   ]
  },
  {
   "cell_type": "code",
   "execution_count": 229,
   "metadata": {},
   "outputs": [
    {
     "data": {
      "text/plain": [
       "0.009693544975719734"
      ]
     },
     "execution_count": 229,
     "metadata": {},
     "output_type": "execute_result"
    }
   ],
   "source": [
    "C = pca.noise_variance_\n",
    "C"
   ]
  },
  {
   "cell_type": "code",
   "execution_count": 232,
   "metadata": {},
   "outputs": [
    {
     "data": {
      "image/png": "[encoded data removed]",
      "text/plain": [
       "<Figure size 432x288 with 1 Axes>"
      ]
     },
     "metadata": {
      "needs_background": "light"
     },
     "output_type": "display_data"
    }
   ],
   "source": [
    "for i in range(df3.shape[-1]):\n",
    "    plt.plot(zscore(df3.iloc[:,i]) + i*2)\n",
    "plt.show()"
   ]
  },
  {
   "cell_type": "code",
   "execution_count": 209,
   "metadata": {},
   "outputs": [
    {
     "data": {
      "text/plain": [
       "[<matplotlib.lines.Line2D at 0x147d11c18>]"
      ]
     },
     "execution_count": 209,
     "metadata": {},
     "output_type": "execute_result"
    },
    {
     "data": {
      "image/png": "[encoded data removed]",
      "text/plain": [
       "<Figure size 432x288 with 1 Axes>"
      ]
     },
     "metadata": {
      "needs_background": "light"
     },
     "output_type": "display_data"
    }
   ],
   "source": [
    "plt.plot(pca.explained_variance_ratio_)"
   ]
  },
  {
   "cell_type": "code",
   "execution_count": 211,
   "metadata": {},
   "outputs": [
    {
     "name": "stdout",
     "output_type": "stream",
     "text": [
      "Help on PCA in module sklearn.decomposition.pca object:\n",
      "\n",
      "class PCA(sklearn.decomposition.base._BasePCA)\n",
      " |  PCA(n_components=None, copy=True, whiten=False, svd_solver='auto', tol=0.0, iterated_power='auto', random_state=None)\n",
      " |  \n",
      " |  Principal component analysis (PCA)\n",
      " |  \n",
      " |  Linear dimensionality reduction using Singular Value Decomposition of the\n",
      " |  data to project it to a lower dimensional space. The input data is centered\n",
      " |  but not scaled for each feature before applying the SVD.\n",
      " |  \n",
      " |  It uses the LAPACK implementation of the full SVD or a randomized truncated\n",
      " |  SVD by the method of Halko et al. 2009, depending on the shape of the input\n",
      " |  data and the number of components to extract.\n",
      " |  \n",
      " |  It can also use the scipy.sparse.linalg ARPACK implementation of the\n",
      " |  truncated SVD.\n",
      " |  \n",
      " |  Notice that this class does not support sparse input. See\n",
      " |  :class:`TruncatedSVD` for an alternative with sparse data.\n",
      " |  \n",
      " |  Read more in the :ref:`User Guide <PCA>`.\n",
      " |  \n",
      " |  Parameters\n",
      " |  ----------\n",
      " |  n_components : int, float, None or string\n",
      " |      Number of components to keep.\n",
      " |      if n_components is not set all components are kept::\n",
      " |  \n",
      " |          n_components == min(n_samples, n_features)\n",
      " |  \n",
      " |      If ``n_components == 'mle'`` and ``svd_solver == 'full'``, Minka's\n",
      " |      MLE is used to guess the dimension. Use of ``n_components == 'mle'``\n",
      " |      will interpret ``svd_solver == 'auto'`` as ``svd_solver == 'full'``.\n",
      " |  \n",
      " |      If ``0 < n_components < 1`` and ``svd_solver == 'full'``, select the\n",
      " |      number of components such that the amount of variance that needs to be\n",
      " |      explained is greater than the percentage specified by n_components.\n",
      " |  \n",
      " |      If ``svd_solver == 'arpack'``, the number of components must be\n",
      " |      strictly less than the minimum of n_features and n_samples.\n",
      " |  \n",
      " |      Hence, the None case results in::\n",
      " |  \n",
      " |          n_components == min(n_samples, n_features) - 1\n",
      " |  \n",
      " |  copy : bool (default True)\n",
      " |      If False, data passed to fit are overwritten and running\n",
      " |      fit(X).transform(X) will not yield the expected results,\n",
      " |      use fit_transform(X) instead.\n",
      " |  \n",
      " |  whiten : bool, optional (default False)\n",
      " |      When True (False by default) the `components_` vectors are multiplied\n",
      " |      by the square root of n_samples and then divided by the singular values\n",
      " |      to ensure uncorrelated outputs with unit component-wise variances.\n",
      " |  \n",
      " |      Whitening will remove some information from the transformed signal\n",
      " |      (the relative variance scales of the components) but can sometime\n",
      " |      improve the predictive accuracy of the downstream estimators by\n",
      " |      making their data respect some hard-wired assumptions.\n",
      " |  \n",
      " |  svd_solver : string {'auto', 'full', 'arpack', 'randomized'}\n",
      " |      auto :\n",
      " |          the solver is selected by a default policy based on `X.shape` and\n",
      " |          `n_components`: if the input data is larger than 500x500 and the\n",
      " |          number of components to extract is lower than 80% of the smallest\n",
      " |          dimension of the data, then the more efficient 'randomized'\n",
      " |          method is enabled. Otherwise the exact full SVD is computed and\n",
      " |          optionally truncated afterwards.\n",
      " |      full :\n",
      " |          run exact full SVD calling the standard LAPACK solver via\n",
      " |          `scipy.linalg.svd` and select the components by postprocessing\n",
      " |      arpack :\n",
      " |          run SVD truncated to n_components calling ARPACK solver via\n",
      " |          `scipy.sparse.linalg.svds`. It requires strictly\n",
      " |          0 < n_components < min(X.shape)\n",
      " |      randomized :\n",
      " |          run randomized SVD by the method of Halko et al.\n",
      " |  \n",
      " |      .. versionadded:: 0.18.0\n",
      " |  \n",
      " |  tol : float >= 0, optional (default .0)\n",
      " |      Tolerance for singular values computed by svd_solver == 'arpack'.\n",
      " |  \n",
      " |      .. versionadded:: 0.18.0\n",
      " |  \n",
      " |  iterated_power : int >= 0, or 'auto', (default 'auto')\n",
      " |      Number of iterations for the power method computed by\n",
      " |      svd_solver == 'randomized'.\n",
      " |  \n",
      " |      .. versionadded:: 0.18.0\n",
      " |  \n",
      " |  random_state : int, RandomState instance or None, optional (default None)\n",
      " |      If int, random_state is the seed used by the random number generator;\n",
      " |      If RandomState instance, random_state is the random number generator;\n",
      " |      If None, the random number generator is the RandomState instance used\n",
      " |      by `np.random`. Used when ``svd_solver`` == 'arpack' or 'randomized'.\n",
      " |  \n",
      " |      .. versionadded:: 0.18.0\n",
      " |  \n",
      " |  Attributes\n",
      " |  ----------\n",
      " |  components_ : array, shape (n_components, n_features)\n",
      " |      Principal axes in feature space, representing the directions of\n",
      " |      maximum variance in the data. The components are sorted by\n",
      " |      ``explained_variance_``.\n",
      " |  \n",
      " |  explained_variance_ : array, shape (n_components,)\n",
      " |      The amount of variance explained by each of the selected components.\n",
      " |  \n",
      " |      Equal to n_components largest eigenvalues\n",
      " |      of the covariance matrix of X.\n",
      " |  \n",
      " |      .. versionadded:: 0.18\n",
      " |  \n",
      " |  explained_variance_ratio_ : array, shape (n_components,)\n",
      " |      Percentage of variance explained by each of the selected components.\n",
      " |  \n",
      " |      If ``n_components`` is not set then all components are stored and the\n",
      " |      sum of the ratios is equal to 1.0.\n",
      " |  \n",
      " |  singular_values_ : array, shape (n_components,)\n",
      " |      The singular values corresponding to each of the selected components.\n",
      " |      The singular values are equal to the 2-norms of the ``n_components``\n",
      " |      variables in the lower-dimensional space.\n",
      " |  \n",
      " |      .. versionadded:: 0.19\n",
      " |  \n",
      " |  mean_ : array, shape (n_features,)\n",
      " |      Per-feature empirical mean, estimated from the training set.\n",
      " |  \n",
      " |      Equal to `X.mean(axis=0)`.\n",
      " |  \n",
      " |  n_components_ : int\n",
      " |      The estimated number of components. When n_components is set\n",
      " |      to 'mle' or a number between 0 and 1 (with svd_solver == 'full') this\n",
      " |      number is estimated from input data. Otherwise it equals the parameter\n",
      " |      n_components, or the lesser value of n_features and n_samples\n",
      " |      if n_components is None.\n",
      " |  \n",
      " |  noise_variance_ : float\n",
      " |      The estimated noise covariance following the Probabilistic PCA model\n",
      " |      from Tipping and Bishop 1999. See \"Pattern Recognition and\n",
      " |      Machine Learning\" by C. Bishop, 12.2.1 p. 574 or\n",
      " |      http://www.miketipping.com/papers/met-mppca.pdf. It is required to\n",
      " |      compute the estimated data covariance and score samples.\n",
      " |  \n",
      " |      Equal to the average of (min(n_features, n_samples) - n_components)\n",
      " |      smallest eigenvalues of the covariance matrix of X.\n",
      " |  \n",
      " |  References\n",
      " |  ----------\n",
      " |  For n_components == 'mle', this class uses the method of *Minka, T. P.\n",
      " |  \"Automatic choice of dimensionality for PCA\". In NIPS, pp. 598-604*\n",
      " |  \n",
      " |  Implements the probabilistic PCA model from:\n",
      " |  Tipping, M. E., and Bishop, C. M. (1999). \"Probabilistic principal\n",
      " |  component analysis\". Journal of the Royal Statistical Society:\n",
      " |  Series B (Statistical Methodology), 61(3), 611-622.\n",
      " |  via the score and score_samples methods.\n",
      " |  See http://www.miketipping.com/papers/met-mppca.pdf\n",
      " |  \n",
      " |  For svd_solver == 'arpack', refer to `scipy.sparse.linalg.svds`.\n",
      " |  \n",
      " |  For svd_solver == 'randomized', see:\n",
      " |  *Halko, N., Martinsson, P. G., and Tropp, J. A. (2011).\n",
      " |  \"Finding structure with randomness: Probabilistic algorithms for\n",
      " |  constructing approximate matrix decompositions\".\n",
      " |  SIAM review, 53(2), 217-288.* and also\n",
      " |  *Martinsson, P. G., Rokhlin, V., and Tygert, M. (2011).\n",
      " |  \"A randomized algorithm for the decomposition of matrices\".\n",
      " |  Applied and Computational Harmonic Analysis, 30(1), 47-68.*\n",
      " |  \n",
      " |  \n",
      " |  Examples\n",
      " |  --------\n",
      " |  >>> import numpy as np\n",
      " |  >>> from sklearn.decomposition import PCA\n",
      " |  >>> X = np.array([[-1, -1], [-2, -1], [-3, -2], [1, 1], [2, 1], [3, 2]])\n",
      " |  >>> pca = PCA(n_components=2)\n",
      " |  >>> pca.fit(X)  # doctest: +NORMALIZE_WHITESPACE\n",
      " |  PCA(copy=True, iterated_power='auto', n_components=2, random_state=None,\n",
      " |    svd_solver='auto', tol=0.0, whiten=False)\n",
      " |  >>> print(pca.explained_variance_ratio_)  # doctest: +ELLIPSIS\n",
      " |  [0.9924... 0.0075...]\n",
      " |  >>> print(pca.singular_values_)  # doctest: +ELLIPSIS\n",
      " |  [6.30061... 0.54980...]\n",
      " |  \n",
      " |  >>> pca = PCA(n_components=2, svd_solver='full')\n",
      " |  >>> pca.fit(X)                 # doctest: +ELLIPSIS +NORMALIZE_WHITESPACE\n",
      " |  PCA(copy=True, iterated_power='auto', n_components=2, random_state=None,\n",
      " |    svd_solver='full', tol=0.0, whiten=False)\n",
      " |  >>> print(pca.explained_variance_ratio_)  # doctest: +ELLIPSIS\n",
      " |  [0.9924... 0.00755...]\n",
      " |  >>> print(pca.singular_values_)  # doctest: +ELLIPSIS\n",
      " |  [6.30061... 0.54980...]\n",
      " |  \n",
      " |  >>> pca = PCA(n_components=1, svd_solver='arpack')\n",
      " |  >>> pca.fit(X)  # doctest: +NORMALIZE_WHITESPACE\n",
      " |  PCA(copy=True, iterated_power='auto', n_components=1, random_state=None,\n",
      " |    svd_solver='arpack', tol=0.0, whiten=False)\n",
      " |  >>> print(pca.explained_variance_ratio_)  # doctest: +ELLIPSIS\n",
      " |  [0.99244...]\n",
      " |  >>> print(pca.singular_values_)  # doctest: +ELLIPSIS\n",
      " |  [6.30061...]\n",
      " |  \n",
      " |  See also\n",
      " |  --------\n",
      " |  KernelPCA\n",
      " |  SparsePCA\n",
      " |  TruncatedSVD\n",
      " |  IncrementalPCA\n",
      " |  \n",
      " |  Method resolution order:\n",
      " |      PCA\n",
      " |      sklearn.decomposition.base._BasePCA\n",
      " |      sklearn.base.BaseEstimator\n",
      " |      sklearn.base.TransformerMixin\n",
      " |      builtins.object\n",
      " |  \n",
      " |  Methods defined here:\n",
      " |  \n",
      " |  __init__(self, n_components=None, copy=True, whiten=False, svd_solver='auto', tol=0.0, iterated_power='auto', random_state=None)\n",
      " |      Initialize self.  See help(type(self)) for accurate signature.\n",
      " |  \n",
      " |  fit(self, X, y=None)\n",
      " |      Fit the model with X.\n",
      " |      \n",
      " |      Parameters\n",
      " |      ----------\n",
      " |      X : array-like, shape (n_samples, n_features)\n",
      " |          Training data, where n_samples is the number of samples\n",
      " |          and n_features is the number of features.\n",
      " |      \n",
      " |      y : Ignored\n",
      " |      \n",
      " |      Returns\n",
      " |      -------\n",
      " |      self : object\n",
      " |          Returns the instance itself.\n",
      " |  \n",
      " |  fit_transform(self, X, y=None)\n",
      " |      Fit the model with X and apply the dimensionality reduction on X.\n",
      " |      \n",
      " |      Parameters\n",
      " |      ----------\n",
      " |      X : array-like, shape (n_samples, n_features)\n",
      " |          Training data, where n_samples is the number of samples\n",
      " |          and n_features is the number of features.\n",
      " |      \n",
      " |      y : Ignored\n",
      " |      \n",
      " |      Returns\n",
      " |      -------\n",
      " |      X_new : array-like, shape (n_samples, n_components)\n",
      " |  \n",
      " |  score(self, X, y=None)\n",
      " |      Return the average log-likelihood of all samples.\n",
      " |      \n",
      " |      See. \"Pattern Recognition and Machine Learning\"\n",
      " |      by C. Bishop, 12.2.1 p. 574\n",
      " |      or http://www.miketipping.com/papers/met-mppca.pdf\n",
      " |      \n",
      " |      Parameters\n",
      " |      ----------\n",
      " |      X : array, shape(n_samples, n_features)\n",
      " |          The data.\n",
      " |      \n",
      " |      y : Ignored\n",
      " |      \n",
      " |      Returns\n",
      " |      -------\n",
      " |      ll : float\n",
      " |          Average log-likelihood of the samples under the current model\n",
      " |  \n",
      " |  score_samples(self, X)\n",
      " |      Return the log-likelihood of each sample.\n",
      " |      \n",
      " |      See. \"Pattern Recognition and Machine Learning\"\n",
      " |      by C. Bishop, 12.2.1 p. 574\n",
      " |      or http://www.miketipping.com/papers/met-mppca.pdf\n",
      " |      \n",
      " |      Parameters\n",
      " |      ----------\n",
      " |      X : array, shape(n_samples, n_features)\n",
      " |          The data.\n",
      " |      \n",
      " |      Returns\n",
      " |      -------\n",
      " |      ll : array, shape (n_samples,)\n",
      " |          Log-likelihood of each sample under the current model\n",
      " |  \n",
      " |  ----------------------------------------------------------------------\n",
      " |  Data and other attributes defined here:\n",
      " |  \n",
      " |  __abstractmethods__ = frozenset()\n",
      " |  \n",
      " |  ----------------------------------------------------------------------\n",
      " |  Methods inherited from sklearn.decomposition.base._BasePCA:\n",
      " |  \n",
      " |  get_covariance(self)\n",
      " |      Compute data covariance with the generative model.\n",
      " |      \n",
      " |      ``cov = components_.T * S**2 * components_ + sigma2 * eye(n_features)``\n",
      " |      where S**2 contains the explained variances, and sigma2 contains the\n",
      " |      noise variances.\n",
      " |      \n",
      " |      Returns\n",
      " |      -------\n",
      " |      cov : array, shape=(n_features, n_features)\n",
      " |          Estimated covariance of data.\n",
      " |  \n",
      " |  get_precision(self)\n",
      " |      Compute data precision matrix with the generative model.\n",
      " |      \n",
      " |      Equals the inverse of the covariance but computed with\n",
      " |      the matrix inversion lemma for efficiency.\n",
      " |      \n",
      " |      Returns\n",
      " |      -------\n",
      " |      precision : array, shape=(n_features, n_features)\n",
      " |          Estimated precision of data.\n",
      " |  \n",
      " |  inverse_transform(self, X)\n",
      " |      Transform data back to its original space.\n",
      " |      \n",
      " |      In other words, return an input X_original whose transform would be X.\n",
      " |      \n",
      " |      Parameters\n",
      " |      ----------\n",
      " |      X : array-like, shape (n_samples, n_components)\n",
      " |          New data, where n_samples is the number of samples\n",
      " |          and n_components is the number of components.\n",
      " |      \n",
      " |      Returns\n",
      " |      -------\n",
      " |      X_original array-like, shape (n_samples, n_features)\n",
      " |      \n",
      " |      Notes\n",
      " |      -----\n",
      " |      If whitening is enabled, inverse_transform will compute the\n",
      " |      exact inverse operation, which includes reversing whitening.\n",
      " |  \n",
      " |  transform(self, X)\n",
      " |      Apply dimensionality reduction to X.\n",
      " |      \n",
      " |      X is projected on the first principal components previously extracted\n",
      " |      from a training set.\n",
      " |      \n",
      " |      Parameters\n",
      " |      ----------\n",
      " |      X : array-like, shape (n_samples, n_features)\n",
      " |          New data, where n_samples is the number of samples\n",
      " |          and n_features is the number of features.\n",
      " |      \n",
      " |      Returns\n",
      " |      -------\n",
      " |      X_new : array-like, shape (n_samples, n_components)\n",
      " |      \n",
      " |      Examples\n",
      " |      --------\n",
      " |      \n",
      " |      >>> import numpy as np\n",
      " |      >>> from sklearn.decomposition import IncrementalPCA\n",
      " |      >>> X = np.array([[-1, -1], [-2, -1], [-3, -2], [1, 1], [2, 1], [3, 2]])\n",
      " |      >>> ipca = IncrementalPCA(n_components=2, batch_size=3)\n",
      " |      >>> ipca.fit(X)\n",
      " |      IncrementalPCA(batch_size=3, copy=True, n_components=2, whiten=False)\n",
      " |      >>> ipca.transform(X) # doctest: +SKIP\n",
      " |  \n",
      " |  ----------------------------------------------------------------------\n",
      " |  Methods inherited from sklearn.base.BaseEstimator:\n",
      " |  \n",
      " |  __getstate__(self)\n",
      " |  \n",
      " |  __repr__(self, N_CHAR_MAX=700)\n",
      " |      Return repr(self).\n",
      " |  \n",
      " |  __setstate__(self, state)\n",
      " |  \n",
      " |  get_params(self, deep=True)\n",
      " |      Get parameters for this estimator.\n",
      " |      \n",
      " |      Parameters\n",
      " |      ----------\n",
      " |      deep : boolean, optional\n",
      " |          If True, will return the parameters for this estimator and\n",
      " |          contained subobjects that are estimators.\n",
      " |      \n",
      " |      Returns\n",
      " |      -------\n",
      " |      params : mapping of string to any\n",
      " |          Parameter names mapped to their values.\n",
      " |  \n",
      " |  set_params(self, **params)\n",
      " |      Set the parameters of this estimator.\n",
      " |      \n",
      " |      The method works on simple estimators as well as on nested objects\n",
      " |      (such as pipelines). The latter have parameters of the form\n",
      " |      ``<component>__<parameter>`` so that it's possible to update each\n",
      " |      component of a nested object.\n",
      " |      \n",
      " |      Returns\n",
      " |      -------\n",
      " |      self\n",
      " |  \n",
      " |  ----------------------------------------------------------------------\n",
      " |  Data descriptors inherited from sklearn.base.BaseEstimator:\n",
      " |  \n",
      " |  __dict__\n",
      " |      dictionary for instance variables (if defined)\n",
      " |  \n",
      " |  __weakref__\n",
      " |      list of weak references to the object (if defined)\n",
      "\n"
     ]
    }
   ],
   "source": [
    "help(pca)"
   ]
  },
  {
   "cell_type": "code",
   "execution_count": null,
   "metadata": {},
   "outputs": [],
   "source": []
  }
 ],
 "metadata": {
  "kernelspec": {
   "display_name": "Python 3",
   "language": "python",
   "name": "python3"
  },
  "language_info": {
   "codemirror_mode": {
    "name": "ipython",
    "version": 3
   },
   "file_extension": ".py",
   "mimetype": "text/x-python",
   "name": "python",
   "nbconvert_exporter": "python",
   "pygments_lexer": "ipython3",
   "version": "3.7.0"
  }
 },
 "nbformat": 4,
 "nbformat_minor": 4
}
