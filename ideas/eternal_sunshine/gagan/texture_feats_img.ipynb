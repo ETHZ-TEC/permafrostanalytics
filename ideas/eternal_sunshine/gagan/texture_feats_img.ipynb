{
 "cells": [
  {
   "cell_type": "code",
   "execution_count": 4,
   "metadata": {},
   "outputs": [],
   "source": [
    "from utils import *"
   ]
  },
  {
   "cell_type": "code",
   "execution_count": 47,
   "metadata": {},
   "outputs": [],
   "source": [
    "import matplotlib.pyplot as plt"
   ]
  },
  {
   "cell_type": "code",
   "execution_count": 23,
   "metadata": {},
   "outputs": [],
   "source": [
    "import pdb"
   ]
  },
  {
   "cell_type": "code",
   "execution_count": 6,
   "metadata": {},
   "outputs": [],
   "source": [
    "def get_image(path, crop = []):\n",
    "    img = Image.open(path)\n",
    "    img = img.rotate(90, expand = 1)\n",
    "    return img.crop(crop)"
   ]
  },
  {
   "cell_type": "code",
   "execution_count": 11,
   "metadata": {},
   "outputs": [],
   "source": [
    "img = get_image('/Users/gagan/Desktop/permafrost_data/test_image/20170730_180014.JPG', crop=(50, 300, 2700, 4200))"
   ]
  },
  {
   "cell_type": "code",
   "execution_count": 13,
   "metadata": {},
   "outputs": [],
   "source": [
    "img.show()"
   ]
  },
  {
   "cell_type": "markdown",
   "metadata": {},
   "source": [
    "# create crops"
   ]
  },
  {
   "cell_type": "code",
   "execution_count": 14,
   "metadata": {},
   "outputs": [],
   "source": [
    "img_list = crop_grid(img, box_size = [600,800], top_offset = 100)"
   ]
  },
  {
   "cell_type": "code",
   "execution_count": 41,
   "metadata": {},
   "outputs": [
    {
     "data": {
      "text/plain": [
       "49"
      ]
     },
     "execution_count": 41,
     "metadata": {},
     "output_type": "execute_result"
    }
   ],
   "source": [
    "len(img_list)"
   ]
  },
  {
   "cell_type": "code",
   "execution_count": 18,
   "metadata": {},
   "outputs": [
    {
     "data": {
      "text/plain": [
       "(350, 500)"
      ]
     },
     "execution_count": 18,
     "metadata": {},
     "output_type": "execute_result"
    }
   ],
   "source": [
    "img_list[20].size"
   ]
  },
  {
   "cell_type": "markdown",
   "metadata": {},
   "source": [
    "# texture features"
   ]
  },
  {
   "cell_type": "code",
   "execution_count": 12,
   "metadata": {},
   "outputs": [],
   "source": [
    "from skimage.feature import greycomatrix, greycoprops"
   ]
  },
  {
   "cell_type": "code",
   "execution_count": 116,
   "metadata": {},
   "outputs": [],
   "source": [
    "def generate_random_img_patches(img, patch_size = 5, num_locs = 5):\n",
    "    # over sample row and column start indices and return numpy array\n",
    "    im = np.array(img)\n",
    "    H = im.shape[0]\n",
    "    W = im.shape[1]\n",
    "    idx_rows = np.random.choice(np.arange(patch_size, H-patch_size), size = num_locs, replace=True)\n",
    "    idx_cols = np.random.choice(np.arange(patch_size, W-patch_size), size = num_locs, replace=True)\n",
    "    locations = [(r,c) for (r,c) in zip(idx_rows, idx_cols)]\n",
    "    patches = []\n",
    "    for loc in locations:\n",
    "        I = im[loc[0] : loc[0]+patch_size, loc[1]:loc[1]+patch_size]\n",
    "        if I.shape[1] < patch_size:\n",
    "            pdb.set_trace()\n",
    "        patches.append(I)\n",
    "    return patches"
   ]
  },
  {
   "cell_type": "code",
   "execution_count": 117,
   "metadata": {},
   "outputs": [],
   "source": [
    "img_patches = [generate_random_img_patches(I, patch_size=30, num_locs=30) for I in img_list]"
   ]
  },
  {
   "cell_type": "code",
   "execution_count": 118,
   "metadata": {},
   "outputs": [
    {
     "data": {
      "text/plain": [
       "(30, 30, 3)"
      ]
     },
     "execution_count": 118,
     "metadata": {},
     "output_type": "execute_result"
    }
   ],
   "source": [
    "img_patches[10][20].shape"
   ]
  },
  {
   "cell_type": "code",
   "execution_count": null,
   "metadata": {},
   "outputs": [],
   "source": [
    "plt.matshow(img_patches[10][20])"
   ]
  },
  {
   "cell_type": "code",
   "execution_count": 62,
   "metadata": {},
   "outputs": [],
   "source": [
    "def rgb2gray(rgb):\n",
    "    return np.dot(rgb[...,:3], [0.2989, 0.5870, 0.1140])"
   ]
  },
  {
   "cell_type": "code",
   "execution_count": 61,
   "metadata": {},
   "outputs": [
    {
     "data": {
      "text/plain": [
       "(30, 30, 3)"
      ]
     },
     "execution_count": 61,
     "metadata": {},
     "output_type": "execute_result"
    }
   ],
   "source": [
    "img_patches[10][20].shape"
   ]
  },
  {
   "cell_type": "code",
   "execution_count": 93,
   "metadata": {},
   "outputs": [],
   "source": [
    "def get_GCLM_features(patches):\n",
    "    # compute some GLCM properties each patch\n",
    "    xs = np.zeros((len(patches),1))\n",
    "    ys = np.zeros((len(patches),1))\n",
    "    for i,patch in enumerate(patches):\n",
    "        # convert patch to grayscale\n",
    "        patch = rgb2gray(patch).astype('uint8')\n",
    "        glcm = greycomatrix(patch, [5], [0], 256, symmetric=True, normed=True)\n",
    "        xs[i] = greycoprops(glcm, 'dissimilarity')[0, 0]\n",
    "        ys[i] = greycoprops(glcm, 'correlation')[0, 0]\n",
    "    return np.concatenate([xs, ys],axis=1).flatten()"
   ]
  },
  {
   "cell_type": "code",
   "execution_count": 83,
   "metadata": {},
   "outputs": [],
   "source": [
    "gclm_feats = np.stack([get_GCLM_features(p) for p in img_patches])"
   ]
  },
  {
   "cell_type": "code",
   "execution_count": 84,
   "metadata": {},
   "outputs": [
    {
     "data": {
      "text/plain": [
       "(49, 60)"
      ]
     },
     "execution_count": 84,
     "metadata": {},
     "output_type": "execute_result"
    }
   ],
   "source": [
    "gclm_feats.shape"
   ]
  },
  {
   "cell_type": "code",
   "execution_count": 126,
   "metadata": {},
   "outputs": [],
   "source": [
    "def get_img_texture_features(path2img, crop = (50, 300, 2700, 4200), resize_to = [1200,800], box_size = [200,300], npatches = 20, patch_size = 30, verbose = True):\n",
    "    img = get_image(path2img, crop)\n",
    "    # resize ?\n",
    "    img = img.resize(resize_to, resample = 1)\n",
    "    img_list = crop_grid(img, box_size = box_size, top_offset = 100)\n",
    "    if verbose:\n",
    "        print('image block size : %d, %d'%(img_list[0].size))\n",
    "    img_patches = [generate_random_img_patches(I, patch_size=patch_size, num_locs=npatches) for I in img_list]\n",
    "    gclm_feats = np.stack([get_GCLM_features(p) for p in img_patches]).flatten()\n",
    "    return gclm_feats"
   ]
  },
  {
   "cell_type": "code",
   "execution_count": 163,
   "metadata": {},
   "outputs": [],
   "source": [
    "def get_all_texture_mapping_features(path_to_images, crop = (50, 300, 2700, 4200) , resize_to = [800,1200], \n",
    "                                     box_size=[600,800], npatches = 20, patch_size = 30, verbose_every = 20):\n",
    "    dirs = os.listdir(path_to_images)\n",
    "    \n",
    "    X = []\n",
    "    flnames = []\n",
    "    cnt = 0\n",
    "    for d in dirs:\n",
    "        if d[:4] == '2017':\n",
    "            fls = os.listdir(os.path.join(path_to_images, d))\n",
    "            for f in fls:\n",
    "                path2img = os.path.join(path_to_images, d, f)\n",
    "                flnames.append(path2img)\n",
    "                # check file size\n",
    "                b = float(os.path.getsize(path2img))\n",
    "                if b < 300e3:\n",
    "                    # blank dark image\n",
    "                    continue\n",
    "                x = get_img_texture_features(path2img, crop, resize_to, box_size, npatches, patch_size, verbose=False)\n",
    "                cnt += 1\n",
    "                X.append(x)\n",
    "                if cnt % verbose_every ==0:\n",
    "                    print(' done with %d images , feature space size %d '%(cnt, x.shape[-1]))\n",
    "    return X, flnames"
   ]
  },
  {
   "cell_type": "markdown",
   "metadata": {},
   "source": [
    "# do for all images"
   ]
  },
  {
   "cell_type": "code",
   "execution_count": 166,
   "metadata": {},
   "outputs": [
    {
     "name": "stdout",
     "output_type": "stream",
     "text": [
      " done with 20 images , feature space size 1400 \n",
      " done with 40 images , feature space size 1400 \n",
      " done with 60 images , feature space size 1400 \n",
      " done with 80 images , feature space size 1400 \n",
      " done with 100 images , feature space size 1400 \n",
      " done with 120 images , feature space size 1400 \n",
      " done with 140 images , feature space size 1400 \n",
      " done with 160 images , feature space size 1400 \n",
      " done with 180 images , feature space size 1400 \n",
      " done with 200 images , feature space size 1400 \n",
      " done with 220 images , feature space size 1400 \n",
      " done with 240 images , feature space size 1400 \n",
      " done with 260 images , feature space size 1400 \n",
      " done with 280 images , feature space size 1400 \n",
      " done with 300 images , feature space size 1400 \n",
      " done with 320 images , feature space size 1400 \n",
      " done with 340 images , feature space size 1400 \n",
      " done with 360 images , feature space size 1400 \n",
      " done with 380 images , feature space size 1400 \n",
      " done with 400 images , feature space size 1400 \n",
      " done with 420 images , feature space size 1400 \n",
      " done with 440 images , feature space size 1400 \n",
      " done with 460 images , feature space size 1400 \n",
      " done with 480 images , feature space size 1400 \n",
      " done with 500 images , feature space size 1400 \n",
      " done with 520 images , feature space size 1400 \n",
      " done with 540 images , feature space size 1400 \n",
      " done with 560 images , feature space size 1400 \n",
      " done with 580 images , feature space size 1400 \n",
      " done with 600 images , feature space size 1400 \n",
      " done with 620 images , feature space size 1400 \n",
      " done with 640 images , feature space size 1400 \n",
      " done with 660 images , feature space size 1400 \n",
      " done with 680 images , feature space size 1400 \n",
      " done with 700 images , feature space size 1400 \n",
      " done with 720 images , feature space size 1400 \n",
      " done with 740 images , feature space size 1400 \n",
      " done with 760 images , feature space size 1400 \n",
      " done with 780 images , feature space size 1400 \n",
      " done with 800 images , feature space size 1400 \n",
      " done with 820 images , feature space size 1400 \n",
      " done with 840 images , feature space size 1400 \n",
      " done with 860 images , feature space size 1400 \n",
      " done with 880 images , feature space size 1400 \n",
      " done with 900 images , feature space size 1400 \n",
      " done with 920 images , feature space size 1400 \n",
      " done with 940 images , feature space size 1400 \n",
      " done with 960 images , feature space size 1400 \n",
      " done with 980 images , feature space size 1400 \n",
      " done with 1000 images , feature space size 1400 \n",
      " done with 1020 images , feature space size 1400 \n",
      " done with 1040 images , feature space size 1400 \n",
      " done with 1060 images , feature space size 1400 \n",
      " done with 1080 images , feature space size 1400 \n",
      " done with 1100 images , feature space size 1400 \n",
      " done with 1120 images , feature space size 1400 \n",
      " done with 1140 images , feature space size 1400 \n",
      " done with 1160 images , feature space size 1400 \n",
      " done with 1180 images , feature space size 1400 \n",
      " done with 1200 images , feature space size 1400 \n",
      " done with 1220 images , feature space size 1400 \n",
      " done with 1240 images , feature space size 1400 \n",
      " done with 1260 images , feature space size 1400 \n",
      " done with 1280 images , feature space size 1400 \n",
      " done with 1300 images , feature space size 1400 \n",
      " done with 1320 images , feature space size 1400 \n",
      " done with 1340 images , feature space size 1400 \n",
      " done with 1360 images , feature space size 1400 \n",
      " done with 1380 images , feature space size 1400 \n",
      " done with 1400 images , feature space size 1400 \n",
      " done with 1420 images , feature space size 1400 \n",
      " done with 1440 images , feature space size 1400 \n",
      " done with 1460 images , feature space size 1400 \n",
      " done with 1480 images , feature space size 1400 \n",
      " done with 1500 images , feature space size 1400 \n",
      " done with 1520 images , feature space size 1400 \n",
      " done with 1540 images , feature space size 1400 \n",
      " done with 1560 images , feature space size 1400 \n",
      " done with 1580 images , feature space size 1400 \n",
      " done with 1600 images , feature space size 1400 \n",
      " done with 1620 images , feature space size 1400 \n",
      " done with 1640 images , feature space size 1400 \n",
      " done with 1660 images , feature space size 1400 \n",
      " done with 1680 images , feature space size 1400 \n",
      " done with 1700 images , feature space size 1400 \n",
      " done with 1720 images , feature space size 1400 \n",
      " done with 1740 images , feature space size 1400 \n",
      " done with 1760 images , feature space size 1400 \n",
      " done with 1780 images , feature space size 1400 \n",
      " done with 1800 images , feature space size 1400 \n",
      " done with 1820 images , feature space size 1400 \n",
      " done with 1840 images , feature space size 1400 \n",
      " done with 1860 images , feature space size 1400 \n",
      " done with 1880 images , feature space size 1400 \n",
      " done with 1900 images , feature space size 1400 \n",
      " done with 1920 images , feature space size 1400 \n",
      " done with 1940 images , feature space size 1400 \n",
      " done with 1960 images , feature space size 1400 \n",
      " done with 1980 images , feature space size 1400 \n",
      " done with 2000 images , feature space size 1400 \n",
      " done with 2020 images , feature space size 1400 \n",
      " done with 2040 images , feature space size 1400 \n",
      " done with 2060 images , feature space size 1400 \n",
      " done with 2080 images , feature space size 1400 \n",
      " done with 2100 images , feature space size 1400 \n",
      " done with 2120 images , feature space size 1400 \n",
      " done with 2140 images , feature space size 1400 \n",
      " done with 2160 images , feature space size 1400 \n",
      " done with 2180 images , feature space size 1400 \n",
      " done with 2200 images , feature space size 1400 \n",
      " done with 2220 images , feature space size 1400 \n",
      " done with 2240 images , feature space size 1400 \n",
      " done with 2260 images , feature space size 1400 \n",
      " done with 2280 images , feature space size 1400 \n",
      " done with 2300 images , feature space size 1400 \n",
      " done with 2320 images , feature space size 1400 \n",
      " done with 2340 images , feature space size 1400 \n",
      " done with 2360 images , feature space size 1400 \n",
      " done with 2380 images , feature space size 1400 \n"
     ]
    }
   ],
   "source": [
    "X, flnames = get_all_texture_mapping_features('/Users/gagan/Desktop/permafrost_data/timelapse_images/', \n",
    "                                              resize_to=[1000,1400], box_size=[200,200], patch_size=20, npatches=20)"
   ]
  },
  {
   "cell_type": "code",
   "execution_count": 168,
   "metadata": {},
   "outputs": [
    {
     "data": {
      "text/plain": [
       "(2386, 1400)"
      ]
     },
     "execution_count": 168,
     "metadata": {},
     "output_type": "execute_result"
    }
   ],
   "source": [
    "Xmat = np.stack(X, axis=0)\n",
    "Xmat.shape"
   ]
  },
  {
   "cell_type": "markdown",
   "metadata": {},
   "source": [
    "# reduce dimensionality"
   ]
  },
  {
   "cell_type": "code",
   "execution_count": 138,
   "metadata": {},
   "outputs": [],
   "source": [
    "from sklearn.decomposition import PCA"
   ]
  },
  {
   "cell_type": "code",
   "execution_count": 211,
   "metadata": {},
   "outputs": [],
   "source": [
    "pca = PCA(n_components=0.98)\n",
    "Xmat_pca = pca.fit_transform(Xmat)"
   ]
  },
  {
   "cell_type": "code",
   "execution_count": 212,
   "metadata": {},
   "outputs": [
    {
     "data": {
      "text/plain": [
       "(2386, 410)"
      ]
     },
     "execution_count": 212,
     "metadata": {},
     "output_type": "execute_result"
    }
   ],
   "source": [
    "Xmat_pca.shape"
   ]
  },
  {
   "cell_type": "markdown",
   "metadata": {},
   "source": [
    "# cluster"
   ]
  },
  {
   "cell_type": "code",
   "execution_count": 81,
   "metadata": {},
   "outputs": [],
   "source": [
    "from umap import UMAP"
   ]
  },
  {
   "cell_type": "code",
   "execution_count": 213,
   "metadata": {},
   "outputs": [],
   "source": [
    "um = UMAP(n_components=2, n_neighbors=10, min_dist=0.05, metric='cityblock')"
   ]
  },
  {
   "cell_type": "code",
   "execution_count": 214,
   "metadata": {},
   "outputs": [],
   "source": [
    "x = um.fit_transform(Xmat_pca)"
   ]
  },
  {
   "cell_type": "code",
   "execution_count": 224,
   "metadata": {},
   "outputs": [
    {
     "data": {
      "text/plain": [
       "<matplotlib.collections.PathCollection at 0x1567f1358>"
      ]
     },
     "execution_count": 224,
     "metadata": {},
     "output_type": "execute_result"
    },
    {
     "data": {
      "image/png": "[encoded data removed]",
      "text/plain": [
       "<Figure size 576x576 with 1 Axes>"
      ]
     },
     "metadata": {
      "needs_background": "light"
     },
     "output_type": "display_data"
    }
   ],
   "source": [
    "plt.figure(figsize=(8,8))\n",
    "plt.scatter(x[:,0], x[:,1], s=4, c=kms_lbls)"
   ]
  },
  {
   "cell_type": "markdown",
   "metadata": {},
   "source": [
    "# cluster"
   ]
  },
  {
   "cell_type": "code",
   "execution_count": 216,
   "metadata": {},
   "outputs": [],
   "source": [
    "from sklearn.cluster import KMeans"
   ]
  },
  {
   "cell_type": "code",
   "execution_count": 222,
   "metadata": {},
   "outputs": [
    {
     "data": {
      "text/plain": [
       "KMeans(algorithm='auto', copy_x=True, init='k-means++', max_iter=300,\n",
       "       n_clusters=2, n_init=10, n_jobs=None, precompute_distances='auto',\n",
       "       random_state=None, tol=0.0001, verbose=0)"
      ]
     },
     "execution_count": 222,
     "metadata": {},
     "output_type": "execute_result"
    }
   ],
   "source": [
    "kms = KMeans(n_clusters=2)\n",
    "kms.fit(x)"
   ]
  },
  {
   "cell_type": "code",
   "execution_count": 223,
   "metadata": {},
   "outputs": [
    {
     "data": {
      "text/plain": [
       "(2386,)"
      ]
     },
     "execution_count": 223,
     "metadata": {},
     "output_type": "execute_result"
    }
   ],
   "source": [
    "kms_lbls = kms.labels_\n",
    "kms_lbls.shape"
   ]
  },
  {
   "cell_type": "code",
   "execution_count": 225,
   "metadata": {},
   "outputs": [
    {
     "data": {
      "text/plain": [
       "(array([0, 1], dtype=int32), array([1855,  531]))"
      ]
     },
     "execution_count": 225,
     "metadata": {},
     "output_type": "execute_result"
    }
   ],
   "source": [
    "np.unique(kms_lbls, return_counts=True)"
   ]
  },
  {
   "cell_type": "markdown",
   "metadata": {},
   "source": [
    "# plot some images"
   ]
  },
  {
   "cell_type": "code",
   "execution_count": 227,
   "metadata": {},
   "outputs": [
    {
     "data": {
      "text/plain": [
       "531"
      ]
     },
     "execution_count": 227,
     "metadata": {},
     "output_type": "execute_result"
    }
   ],
   "source": [
    "fl1 = [flnames[i] for i in np.where(kms_lbls==1)[0]]\n",
    "len(fl1)"
   ]
  },
  {
   "cell_type": "code",
   "execution_count": 235,
   "metadata": {},
   "outputs": [
    {
     "data": {
      "text/plain": [
       "(2650, 3900)"
      ]
     },
     "execution_count": 235,
     "metadata": {},
     "output_type": "execute_result"
    }
   ],
   "source": [
    "img = get_image(fl1[3],crop = (50, 300, 2700, 4200) )\n",
    "img.size"
   ]
  },
  {
   "cell_type": "code",
   "execution_count": 236,
   "metadata": {},
   "outputs": [],
   "source": [
    "img.show()"
   ]
  },
  {
   "cell_type": "code",
   "execution_count": 177,
   "metadata": {},
   "outputs": [],
   "source": [
    "from datetime import datetime"
   ]
  },
  {
   "cell_type": "code",
   "execution_count": 180,
   "metadata": {},
   "outputs": [
    {
     "data": {
      "text/plain": [
       "'/Users/gagan/Desktop/permafrost_data/timelapse_images/2017-11-07/20171107_200011.JPG'"
      ]
     },
     "execution_count": 180,
     "metadata": {},
     "output_type": "execute_result"
    }
   ],
   "source": [
    "flnames[0]"
   ]
  },
  {
   "cell_type": "code",
   "execution_count": 205,
   "metadata": {},
   "outputs": [],
   "source": [
    "import pytz\n",
    "utc = pytz.utc"
   ]
  },
  {
   "cell_type": "code",
   "execution_count": 206,
   "metadata": {},
   "outputs": [],
   "source": [
    "def get_flname_timestamps(flnames):\n",
    "    dts = []\n",
    "    for f in flnames:\n",
    "        s = f.split('/')[-1]\n",
    "        dat = s.split('_')[0]\n",
    "        yy = dat[:4]\n",
    "        mm = dat[4:6]\n",
    "        dd = dat[6:8]\n",
    "        dat = s.split('_')[-1]\n",
    "        hh = dat[:2]\n",
    "        minn = dat[2:4]\n",
    "        d = datetime(int(yy),int(mm),int(dd),int(hh),int(minn),0,0).astimezone(utc)\n",
    "        dts.append(d)\n",
    "    return dts"
   ]
  },
  {
   "cell_type": "code",
   "execution_count": 207,
   "metadata": {},
   "outputs": [],
   "source": [
    "dts = get_flname_timestamps(flnames)"
   ]
  },
  {
   "cell_type": "code",
   "execution_count": 172,
   "metadata": {},
   "outputs": [],
   "source": [
    "import pandas as pd"
   ]
  },
  {
   "cell_type": "code",
   "execution_count": 173,
   "metadata": {},
   "outputs": [],
   "source": [
    "labels = pd.read_csv('/Users/gagan/Desktop/permafrost_data/annotations/automatic_labels_mountaineers.csv')"
   ]
  },
  {
   "cell_type": "code",
   "execution_count": 174,
   "metadata": {},
   "outputs": [
    {
     "data": {
      "text/html": [
       "<div>\n",
       "<style scoped>\n",
       "    .dataframe tbody tr th:only-of-type {\n",
       "        vertical-align: middle;\n",
       "    }\n",
       "\n",
       "    .dataframe tbody tr th {\n",
       "        vertical-align: top;\n",
       "    }\n",
       "\n",
       "    .dataframe thead th {\n",
       "        text-align: right;\n",
       "    }\n",
       "</style>\n",
       "<table border=\"1\" class=\"dataframe\">\n",
       "  <thead>\n",
       "    <tr style=\"text-align: right;\">\n",
       "      <th></th>\n",
       "      <th>start_time</th>\n",
       "      <th>end_time</th>\n",
       "      <th>start_x</th>\n",
       "      <th>end_x</th>\n",
       "      <th>start_y</th>\n",
       "      <th>end_y</th>\n",
       "      <th>__target</th>\n",
       "    </tr>\n",
       "  </thead>\n",
       "  <tbody>\n",
       "    <tr>\n",
       "      <th>0</th>\n",
       "      <td>2018-04-14 04:00:00+00:00</td>\n",
       "      <td>2018-04-14 04:02:00+00:00</td>\n",
       "      <td>NaN</td>\n",
       "      <td>NaN</td>\n",
       "      <td>NaN</td>\n",
       "      <td>NaN</td>\n",
       "      <td>mountaineer</td>\n",
       "    </tr>\n",
       "    <tr>\n",
       "      <th>1</th>\n",
       "      <td>2018-04-14 04:02:00+00:00</td>\n",
       "      <td>2018-04-14 04:04:00+00:00</td>\n",
       "      <td>NaN</td>\n",
       "      <td>NaN</td>\n",
       "      <td>NaN</td>\n",
       "      <td>NaN</td>\n",
       "      <td>NaN</td>\n",
       "    </tr>\n",
       "    <tr>\n",
       "      <th>2</th>\n",
       "      <td>2018-04-14 04:04:00+00:00</td>\n",
       "      <td>2018-04-14 04:06:00+00:00</td>\n",
       "      <td>NaN</td>\n",
       "      <td>NaN</td>\n",
       "      <td>NaN</td>\n",
       "      <td>NaN</td>\n",
       "      <td>NaN</td>\n",
       "    </tr>\n",
       "    <tr>\n",
       "      <th>3</th>\n",
       "      <td>2018-04-14 04:06:00+00:00</td>\n",
       "      <td>2018-04-14 04:08:00+00:00</td>\n",
       "      <td>NaN</td>\n",
       "      <td>NaN</td>\n",
       "      <td>NaN</td>\n",
       "      <td>NaN</td>\n",
       "      <td>NaN</td>\n",
       "    </tr>\n",
       "    <tr>\n",
       "      <th>4</th>\n",
       "      <td>2018-04-14 04:08:00+00:00</td>\n",
       "      <td>2018-04-14 04:10:00+00:00</td>\n",
       "      <td>NaN</td>\n",
       "      <td>NaN</td>\n",
       "      <td>NaN</td>\n",
       "      <td>NaN</td>\n",
       "      <td>NaN</td>\n",
       "    </tr>\n",
       "    <tr>\n",
       "      <th>5</th>\n",
       "      <td>2018-04-14 04:10:00+00:00</td>\n",
       "      <td>2018-04-14 04:12:00+00:00</td>\n",
       "      <td>NaN</td>\n",
       "      <td>NaN</td>\n",
       "      <td>NaN</td>\n",
       "      <td>NaN</td>\n",
       "      <td>NaN</td>\n",
       "    </tr>\n",
       "    <tr>\n",
       "      <th>6</th>\n",
       "      <td>2018-04-14 04:12:00+00:00</td>\n",
       "      <td>2018-04-14 04:14:00+00:00</td>\n",
       "      <td>NaN</td>\n",
       "      <td>NaN</td>\n",
       "      <td>NaN</td>\n",
       "      <td>NaN</td>\n",
       "      <td>NaN</td>\n",
       "    </tr>\n",
       "    <tr>\n",
       "      <th>7</th>\n",
       "      <td>2018-04-14 04:14:00+00:00</td>\n",
       "      <td>2018-04-14 04:16:00+00:00</td>\n",
       "      <td>NaN</td>\n",
       "      <td>NaN</td>\n",
       "      <td>NaN</td>\n",
       "      <td>NaN</td>\n",
       "      <td>NaN</td>\n",
       "    </tr>\n",
       "    <tr>\n",
       "      <th>8</th>\n",
       "      <td>2018-04-14 04:16:00+00:00</td>\n",
       "      <td>2018-04-14 04:18:00+00:00</td>\n",
       "      <td>NaN</td>\n",
       "      <td>NaN</td>\n",
       "      <td>NaN</td>\n",
       "      <td>NaN</td>\n",
       "      <td>NaN</td>\n",
       "    </tr>\n",
       "    <tr>\n",
       "      <th>9</th>\n",
       "      <td>2018-04-14 04:18:00+00:00</td>\n",
       "      <td>2018-04-14 04:20:00+00:00</td>\n",
       "      <td>NaN</td>\n",
       "      <td>NaN</td>\n",
       "      <td>NaN</td>\n",
       "      <td>NaN</td>\n",
       "      <td>NaN</td>\n",
       "    </tr>\n",
       "  </tbody>\n",
       "</table>\n",
       "</div>"
      ],
      "text/plain": [
       "                  start_time                   end_time  start_x  end_x  \\\n",
       "0  2018-04-14 04:00:00+00:00  2018-04-14 04:02:00+00:00      NaN    NaN   \n",
       "1  2018-04-14 04:02:00+00:00  2018-04-14 04:04:00+00:00      NaN    NaN   \n",
       "2  2018-04-14 04:04:00+00:00  2018-04-14 04:06:00+00:00      NaN    NaN   \n",
       "3  2018-04-14 04:06:00+00:00  2018-04-14 04:08:00+00:00      NaN    NaN   \n",
       "4  2018-04-14 04:08:00+00:00  2018-04-14 04:10:00+00:00      NaN    NaN   \n",
       "5  2018-04-14 04:10:00+00:00  2018-04-14 04:12:00+00:00      NaN    NaN   \n",
       "6  2018-04-14 04:12:00+00:00  2018-04-14 04:14:00+00:00      NaN    NaN   \n",
       "7  2018-04-14 04:14:00+00:00  2018-04-14 04:16:00+00:00      NaN    NaN   \n",
       "8  2018-04-14 04:16:00+00:00  2018-04-14 04:18:00+00:00      NaN    NaN   \n",
       "9  2018-04-14 04:18:00+00:00  2018-04-14 04:20:00+00:00      NaN    NaN   \n",
       "\n",
       "   start_y  end_y     __target  \n",
       "0      NaN    NaN  mountaineer  \n",
       "1      NaN    NaN          NaN  \n",
       "2      NaN    NaN          NaN  \n",
       "3      NaN    NaN          NaN  \n",
       "4      NaN    NaN          NaN  \n",
       "5      NaN    NaN          NaN  \n",
       "6      NaN    NaN          NaN  \n",
       "7      NaN    NaN          NaN  \n",
       "8      NaN    NaN          NaN  \n",
       "9      NaN    NaN          NaN  "
      ]
     },
     "execution_count": 174,
     "metadata": {},
     "output_type": "execute_result"
    }
   ],
   "source": [
    "labels.head(10)"
   ]
  },
  {
   "cell_type": "code",
   "execution_count": 190,
   "metadata": {},
   "outputs": [],
   "source": [
    "from dateutil.parser import isoparse"
   ]
  },
  {
   "cell_type": "code",
   "execution_count": 193,
   "metadata": {},
   "outputs": [],
   "source": [
    "label_starttime = [isoparse(l) for l in labels['start_time']]\n"
   ]
  },
  {
   "cell_type": "code",
   "execution_count": 194,
   "metadata": {},
   "outputs": [
    {
     "data": {
      "text/plain": [
       "datetime.datetime(2018, 4, 14, 4, 0, tzinfo=tzutc())"
      ]
     },
     "execution_count": 194,
     "metadata": {},
     "output_type": "execute_result"
    }
   ],
   "source": [
    "label_starttime[0]"
   ]
  },
  {
   "cell_type": "code",
   "execution_count": 208,
   "metadata": {},
   "outputs": [
    {
     "data": {
      "text/plain": [
       "-13597200.0"
      ]
     },
     "execution_count": 208,
     "metadata": {},
     "output_type": "execute_result"
    }
   ],
   "source": [
    "(dts[0] - label_starttime[0]).total_seconds()"
   ]
  },
  {
   "cell_type": "code",
   "execution_count": 154,
   "metadata": {},
   "outputs": [],
   "source": [
    "all_mountaineers = labels['__target'] == 'mountaineer'"
   ]
  },
  {
   "cell_type": "code",
   "execution_count": 155,
   "metadata": {},
   "outputs": [],
   "source": [
    "all_mountaineers = np.where(all_mountaineers == True)[0]"
   ]
  },
  {
   "cell_type": "code",
   "execution_count": 156,
   "metadata": {},
   "outputs": [
    {
     "data": {
      "text/plain": [
       "(72903,)"
      ]
     },
     "execution_count": 156,
     "metadata": {},
     "output_type": "execute_result"
    }
   ],
   "source": [
    "all_mountaineers.shape"
   ]
  },
  {
   "cell_type": "code",
   "execution_count": 209,
   "metadata": {},
   "outputs": [],
   "source": [
    "def find_matching_points(dts, label_starttime):\n",
    "    ids = [None for _ in range(len(dts))]\n",
    "    for d in dts:\n",
    "        DT = [(d-l).total_seconds() for l in label_starttime]\n",
    "        idx = np.argmin(DT)\n",
    "        ids.append(idx)\n",
    "    return ids"
   ]
  },
  {
   "cell_type": "code",
   "execution_count": 210,
   "metadata": {},
   "outputs": [
    {
     "ename": "KeyboardInterrupt",
     "evalue": "",
     "output_type": "error",
     "traceback": [
      "\u001b[0;31m---------------------------------------------------------------------------\u001b[0m",
      "\u001b[0;31mKeyboardInterrupt\u001b[0m                         Traceback (most recent call last)",
      "\u001b[0;32m<ipython-input-210-5a00a94319e1>\u001b[0m in \u001b[0;36m<module>\u001b[0;34m\u001b[0m\n\u001b[0;32m----> 1\u001b[0;31m \u001b[0mids\u001b[0m \u001b[0;34m=\u001b[0m \u001b[0mfind_matching_points\u001b[0m\u001b[0;34m(\u001b[0m\u001b[0mdts\u001b[0m\u001b[0;34m,\u001b[0m \u001b[0mlabel_starttime\u001b[0m\u001b[0;34m)\u001b[0m\u001b[0;34m\u001b[0m\u001b[0m\n\u001b[0m",
      "\u001b[0;32m<ipython-input-209-41b1c4bf61f8>\u001b[0m in \u001b[0;36mfind_matching_points\u001b[0;34m(dts, label_starttime)\u001b[0m\n\u001b[1;32m      2\u001b[0m     \u001b[0mids\u001b[0m \u001b[0;34m=\u001b[0m \u001b[0;34m[\u001b[0m\u001b[0;32mNone\u001b[0m \u001b[0;32mfor\u001b[0m \u001b[0m_\u001b[0m \u001b[0;32min\u001b[0m \u001b[0mrange\u001b[0m\u001b[0;34m(\u001b[0m\u001b[0mlen\u001b[0m\u001b[0;34m(\u001b[0m\u001b[0mdts\u001b[0m\u001b[0;34m)\u001b[0m\u001b[0;34m)\u001b[0m\u001b[0;34m]\u001b[0m\u001b[0;34m\u001b[0m\u001b[0m\n\u001b[1;32m      3\u001b[0m     \u001b[0;32mfor\u001b[0m \u001b[0md\u001b[0m \u001b[0;32min\u001b[0m \u001b[0mdts\u001b[0m\u001b[0;34m:\u001b[0m\u001b[0;34m\u001b[0m\u001b[0m\n\u001b[0;32m----> 4\u001b[0;31m         \u001b[0mDT\u001b[0m \u001b[0;34m=\u001b[0m \u001b[0;34m[\u001b[0m\u001b[0;34m(\u001b[0m\u001b[0md\u001b[0m\u001b[0;34m-\u001b[0m\u001b[0ml\u001b[0m\u001b[0;34m)\u001b[0m\u001b[0;34m.\u001b[0m\u001b[0mtotal_seconds\u001b[0m\u001b[0;34m(\u001b[0m\u001b[0;34m)\u001b[0m \u001b[0;32mfor\u001b[0m \u001b[0ml\u001b[0m \u001b[0;32min\u001b[0m \u001b[0mlabel_starttime\u001b[0m\u001b[0;34m]\u001b[0m\u001b[0;34m\u001b[0m\u001b[0m\n\u001b[0m\u001b[1;32m      5\u001b[0m         \u001b[0midx\u001b[0m \u001b[0;34m=\u001b[0m \u001b[0mnp\u001b[0m\u001b[0;34m.\u001b[0m\u001b[0margmin\u001b[0m\u001b[0;34m(\u001b[0m\u001b[0mDT\u001b[0m\u001b[0;34m)\u001b[0m\u001b[0;34m\u001b[0m\u001b[0m\n\u001b[1;32m      6\u001b[0m         \u001b[0mids\u001b[0m\u001b[0;34m.\u001b[0m\u001b[0mappend\u001b[0m\u001b[0;34m(\u001b[0m\u001b[0midx\u001b[0m\u001b[0;34m)\u001b[0m\u001b[0;34m\u001b[0m\u001b[0m\n",
      "\u001b[0;32m<ipython-input-209-41b1c4bf61f8>\u001b[0m in \u001b[0;36m<listcomp>\u001b[0;34m(.0)\u001b[0m\n\u001b[1;32m      2\u001b[0m     \u001b[0mids\u001b[0m \u001b[0;34m=\u001b[0m \u001b[0;34m[\u001b[0m\u001b[0;32mNone\u001b[0m \u001b[0;32mfor\u001b[0m \u001b[0m_\u001b[0m \u001b[0;32min\u001b[0m \u001b[0mrange\u001b[0m\u001b[0;34m(\u001b[0m\u001b[0mlen\u001b[0m\u001b[0;34m(\u001b[0m\u001b[0mdts\u001b[0m\u001b[0;34m)\u001b[0m\u001b[0;34m)\u001b[0m\u001b[0;34m]\u001b[0m\u001b[0;34m\u001b[0m\u001b[0m\n\u001b[1;32m      3\u001b[0m     \u001b[0;32mfor\u001b[0m \u001b[0md\u001b[0m \u001b[0;32min\u001b[0m \u001b[0mdts\u001b[0m\u001b[0;34m:\u001b[0m\u001b[0;34m\u001b[0m\u001b[0m\n\u001b[0;32m----> 4\u001b[0;31m         \u001b[0mDT\u001b[0m \u001b[0;34m=\u001b[0m \u001b[0;34m[\u001b[0m\u001b[0;34m(\u001b[0m\u001b[0md\u001b[0m\u001b[0;34m-\u001b[0m\u001b[0ml\u001b[0m\u001b[0;34m)\u001b[0m\u001b[0;34m.\u001b[0m\u001b[0mtotal_seconds\u001b[0m\u001b[0;34m(\u001b[0m\u001b[0;34m)\u001b[0m \u001b[0;32mfor\u001b[0m \u001b[0ml\u001b[0m \u001b[0;32min\u001b[0m \u001b[0mlabel_starttime\u001b[0m\u001b[0;34m]\u001b[0m\u001b[0;34m\u001b[0m\u001b[0m\n\u001b[0m\u001b[1;32m      5\u001b[0m         \u001b[0midx\u001b[0m \u001b[0;34m=\u001b[0m \u001b[0mnp\u001b[0m\u001b[0;34m.\u001b[0m\u001b[0margmin\u001b[0m\u001b[0;34m(\u001b[0m\u001b[0mDT\u001b[0m\u001b[0;34m)\u001b[0m\u001b[0;34m\u001b[0m\u001b[0m\n\u001b[1;32m      6\u001b[0m         \u001b[0mids\u001b[0m\u001b[0;34m.\u001b[0m\u001b[0mappend\u001b[0m\u001b[0;34m(\u001b[0m\u001b[0midx\u001b[0m\u001b[0;34m)\u001b[0m\u001b[0;34m\u001b[0m\u001b[0m\n",
      "\u001b[0;31mKeyboardInterrupt\u001b[0m: "
     ]
    }
   ],
   "source": [
    "ids = find_matching_points(dts, label_starttime)"
   ]
  },
  {
   "cell_type": "code",
   "execution_count": null,
   "metadata": {},
   "outputs": [],
   "source": []
  }
 ],
 "metadata": {
  "kernelspec": {
   "display_name": "Python 3",
   "language": "python",
   "name": "python3"
  },
  "language_info": {
   "codemirror_mode": {
    "name": "ipython",
    "version": 3
   },
   "file_extension": ".py",
   "mimetype": "text/x-python",
   "name": "python",
   "nbconvert_exporter": "python",
   "pygments_lexer": "ipython3",
   "version": "3.7.0"
  }
 },
 "nbformat": 4,
 "nbformat_minor": 4
}
