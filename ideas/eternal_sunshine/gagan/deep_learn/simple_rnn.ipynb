{
 "cells": [
  {
   "cell_type": "code",
   "execution_count": 1,
   "metadata": {},
   "outputs": [],
   "source": [
    "import numpy as np\n",
    "import torch\n",
    "import torch.nn as nn"
   ]
  },
  {
   "cell_type": "code",
   "execution_count": 2,
   "metadata": {},
   "outputs": [],
   "source": [
    "from torch.utils.data import TensorDataset, DataLoader"
   ]
  },
  {
   "cell_type": "code",
   "execution_count": 3,
   "metadata": {},
   "outputs": [],
   "source": [
    "import pandas as pd\n",
    "import matplotlib.pyplot as plt"
   ]
  },
  {
   "cell_type": "code",
   "execution_count": 4,
   "metadata": {},
   "outputs": [],
   "source": [
    "data = pd.read_csv('/Users/gagan/Desktop/permafrost_data/Frac_Temp_Res_Tfrac_processed_timeseries1.csv')"
   ]
  },
  {
   "cell_type": "code",
   "execution_count": 5,
   "metadata": {},
   "outputs": [
    {
     "data": {
      "text/html": [
       "<div>\n",
       "<style scoped>\n",
       "    .dataframe tbody tr th:only-of-type {\n",
       "        vertical-align: middle;\n",
       "    }\n",
       "\n",
       "    .dataframe tbody tr th {\n",
       "        vertical-align: top;\n",
       "    }\n",
       "\n",
       "    .dataframe thead th {\n",
       "        text-align: right;\n",
       "    }\n",
       "</style>\n",
       "<table border=\"1\" class=\"dataframe\">\n",
       "  <thead>\n",
       "    <tr style=\"text-align: right;\">\n",
       "      <th></th>\n",
       "      <th>Unnamed: 0</th>\n",
       "      <th>F02</th>\n",
       "      <th>F03</th>\n",
       "      <th>F04</th>\n",
       "      <th>F06</th>\n",
       "      <th>F18</th>\n",
       "      <th>F20</th>\n",
       "      <th>F21</th>\n",
       "      <th>T30_1</th>\n",
       "      <th>T30_2</th>\n",
       "      <th>...</th>\n",
       "      <th>Tfrac04_1</th>\n",
       "      <th>Tfrac04_2</th>\n",
       "      <th>Tfrac04_3</th>\n",
       "      <th>Tfrac04_4</th>\n",
       "      <th>Tfrac04_5</th>\n",
       "      <th>Tfrac07_1</th>\n",
       "      <th>Tfrac07_2</th>\n",
       "      <th>Tfrac07_3</th>\n",
       "      <th>Tfrac07_4</th>\n",
       "      <th>time</th>\n",
       "    </tr>\n",
       "  </thead>\n",
       "  <tbody>\n",
       "    <tr>\n",
       "      <th>0</th>\n",
       "      <td>0</td>\n",
       "      <td>-1.1169</td>\n",
       "      <td>10.3142</td>\n",
       "      <td>6.5025</td>\n",
       "      <td>2.337562</td>\n",
       "      <td>27.1767</td>\n",
       "      <td>-4.6245</td>\n",
       "      <td>0.0006</td>\n",
       "      <td>-9.4934</td>\n",
       "      <td>-9.1609</td>\n",
       "      <td>...</td>\n",
       "      <td>-9.2480</td>\n",
       "      <td>-9.6308</td>\n",
       "      <td>-8.9031</td>\n",
       "      <td>-8.5332</td>\n",
       "      <td>-8.3830</td>\n",
       "      <td>-8.1888</td>\n",
       "      <td>-7.8033</td>\n",
       "      <td>-7.1370</td>\n",
       "      <td>-7.0778</td>\n",
       "      <td>2017-01-01T00:00:00Z</td>\n",
       "    </tr>\n",
       "    <tr>\n",
       "      <th>1</th>\n",
       "      <td>1</td>\n",
       "      <td>-1.1164</td>\n",
       "      <td>10.3174</td>\n",
       "      <td>6.5053</td>\n",
       "      <td>2.337520</td>\n",
       "      <td>27.1766</td>\n",
       "      <td>-4.6243</td>\n",
       "      <td>-0.0003</td>\n",
       "      <td>-9.5680</td>\n",
       "      <td>-9.2330</td>\n",
       "      <td>...</td>\n",
       "      <td>-9.1562</td>\n",
       "      <td>-9.3179</td>\n",
       "      <td>-8.7964</td>\n",
       "      <td>-8.4922</td>\n",
       "      <td>-8.3290</td>\n",
       "      <td>-8.4020</td>\n",
       "      <td>-7.9639</td>\n",
       "      <td>-7.1608</td>\n",
       "      <td>-7.0412</td>\n",
       "      <td>2017-01-01T01:00:00Z</td>\n",
       "    </tr>\n",
       "    <tr>\n",
       "      <th>2</th>\n",
       "      <td>2</td>\n",
       "      <td>-1.1145</td>\n",
       "      <td>10.3205</td>\n",
       "      <td>6.5107</td>\n",
       "      <td>2.337477</td>\n",
       "      <td>27.1758</td>\n",
       "      <td>-4.6229</td>\n",
       "      <td>-0.0008</td>\n",
       "      <td>-9.6568</td>\n",
       "      <td>-9.3084</td>\n",
       "      <td>...</td>\n",
       "      <td>-9.3568</td>\n",
       "      <td>-9.7409</td>\n",
       "      <td>-9.0686</td>\n",
       "      <td>-8.5397</td>\n",
       "      <td>-8.3888</td>\n",
       "      <td>-8.5605</td>\n",
       "      <td>-8.0196</td>\n",
       "      <td>-7.0832</td>\n",
       "      <td>-6.9179</td>\n",
       "      <td>2017-01-01T02:00:00Z</td>\n",
       "    </tr>\n",
       "  </tbody>\n",
       "</table>\n",
       "<p>3 rows × 54 columns</p>\n",
       "</div>"
      ],
      "text/plain": [
       "   Unnamed: 0     F02      F03     F04       F06      F18     F20     F21  \\\n",
       "0           0 -1.1169  10.3142  6.5025  2.337562  27.1767 -4.6245  0.0006   \n",
       "1           1 -1.1164  10.3174  6.5053  2.337520  27.1766 -4.6243 -0.0003   \n",
       "2           2 -1.1145  10.3205  6.5107  2.337477  27.1758 -4.6229 -0.0008   \n",
       "\n",
       "    T30_1   T30_2  ...  Tfrac04_1  Tfrac04_2  Tfrac04_3  Tfrac04_4  Tfrac04_5  \\\n",
       "0 -9.4934 -9.1609  ...    -9.2480    -9.6308    -8.9031    -8.5332    -8.3830   \n",
       "1 -9.5680 -9.2330  ...    -9.1562    -9.3179    -8.7964    -8.4922    -8.3290   \n",
       "2 -9.6568 -9.3084  ...    -9.3568    -9.7409    -9.0686    -8.5397    -8.3888   \n",
       "\n",
       "   Tfrac07_1  Tfrac07_2  Tfrac07_3  Tfrac07_4                  time  \n",
       "0    -8.1888    -7.8033    -7.1370    -7.0778  2017-01-01T00:00:00Z  \n",
       "1    -8.4020    -7.9639    -7.1608    -7.0412  2017-01-01T01:00:00Z  \n",
       "2    -8.5605    -8.0196    -7.0832    -6.9179  2017-01-01T02:00:00Z  \n",
       "\n",
       "[3 rows x 54 columns]"
      ]
     },
     "execution_count": 5,
     "metadata": {},
     "output_type": "execute_result"
    }
   ],
   "source": [
    "data.head(3)"
   ]
  },
  {
   "cell_type": "code",
   "execution_count": 6,
   "metadata": {},
   "outputs": [],
   "source": [
    "class rnn(nn.Module):\n",
    "    def __init__(self, n_in = 52, n_out=1, nlin1 = 20, nlin2 = 20, n_rnn = 50):\n",
    "        super(rnn, self).__init__()\n",
    "        self.lin1 = nn.Linear(n_in, nlin1)\n",
    "        self.lnorm1 = nn.LayerNorm(nlin1)\n",
    "        self.gru = nn.GRUCell(input_size=nlin1, hidden_size=n_rnn)\n",
    "        self.lin2 = nn.Linear(n_rnn, nlin2)\n",
    "        self.lnorm2 = nn.LayerNorm(nlin2)\n",
    "        self.lin3 = nn.Linear(nlin2, n_in)\n",
    "        self.relu = nn.ReLU(True)\n",
    "    def forward(self, x, h = None):\n",
    "        x = self.relu(self.lnorm1(self.lin1(x)))\n",
    "        h = self.gru(x, h)\n",
    "        y = self.relu(self.lnorm2(self.lin2(h)))\n",
    "        y = self.lin3(y)\n",
    "        return y, h"
   ]
  },
  {
   "cell_type": "markdown",
   "metadata": {},
   "source": [
    "# create train and test datasets and loaders"
   ]
  },
  {
   "cell_type": "code",
   "execution_count": 9,
   "metadata": {},
   "outputs": [],
   "source": [
    "ntrain_samps = int(data.shape[0] * 0.7)\n",
    "train_x = np.array(data.iloc[:ntrain_samps,:-1]).astype(float)\n",
    "test_x = np.array(data.iloc[ntrain_samps:,:-1]).astype(float)\n",
    "test_x.shape\n",
    "\n",
    "train_dataset = TensorDataset(torch.from_numpy(train_x).float())\n",
    "test_dataset = TensorDataset(torch.from_numpy(test_x).float())\n",
    "\n",
    "train_loader = DataLoader(train_dataset, batch_size=32, shuffle=False, drop_last=False)\n",
    "test_loader = DataLoader(test_dataset, batch_size=32, shuffle=False, drop_last=False)"
   ]
  },
  {
   "cell_type": "markdown",
   "metadata": {},
   "source": [
    "# create model"
   ]
  },
  {
   "cell_type": "code",
   "execution_count": 10,
   "metadata": {},
   "outputs": [],
   "source": [
    "model = rnn(n_in=53)"
   ]
  },
  {
   "cell_type": "code",
   "execution_count": 1,
   "metadata": {},
   "outputs": [
    {
     "ename": "NameError",
     "evalue": "name 'torch' is not defined",
     "output_type": "error",
     "traceback": [
      "\u001b[0;31m---------------------------------------------------------------------------\u001b[0m",
      "\u001b[0;31mNameError\u001b[0m                                 Traceback (most recent call last)",
      "\u001b[0;32m<ipython-input-1-d126fb8bc689>\u001b[0m in \u001b[0;36m<module>\u001b[0;34m\u001b[0m\n\u001b[0;32m----> 1\u001b[0;31m \u001b[0mxx\u001b[0m \u001b[0;34m=\u001b[0m \u001b[0mtorch\u001b[0m\u001b[0;34m.\u001b[0m\u001b[0mFloatTensor\u001b[0m\u001b[0;34m(\u001b[0m\u001b[0;36m10\u001b[0m\u001b[0;34m,\u001b[0m \u001b[0;36m53\u001b[0m\u001b[0;34m)\u001b[0m\u001b[0;34m\u001b[0m\u001b[0m\n\u001b[0m\u001b[1;32m      2\u001b[0m \u001b[0myy\u001b[0m\u001b[0;34m,\u001b[0m\u001b[0mh\u001b[0m \u001b[0;34m=\u001b[0m \u001b[0mmodel\u001b[0m\u001b[0;34m(\u001b[0m\u001b[0mxx\u001b[0m\u001b[0;34m)\u001b[0m\u001b[0;34m\u001b[0m\u001b[0m\n",
      "\u001b[0;31mNameError\u001b[0m: name 'torch' is not defined"
     ]
    }
   ],
   "source": [
    "xx = torch.FloatTensor(10, 53)\n",
    "yy,h = model(xx)"
   ]
  },
  {
   "cell_type": "code",
   "execution_count": null,
   "metadata": {},
   "outputs": [],
   "source": [
    "def train():\n",
    "    optimizer = torch.optim.Adam(model.parameters(), lr = 1e-3)\n",
    "    criterion = nn.SmoothL1Loss()\n",
    "    h = None\n",
    "    for i,x in enumerate(train_loader):\n",
    "        y, h = model(x, h)\n",
    "        "
   ]
  }
 ],
 "metadata": {
  "kernelspec": {
   "display_name": "Python 3",
   "language": "python",
   "name": "python3"
  },
  "language_info": {
   "codemirror_mode": {
    "name": "ipython",
    "version": 3
   },
   "file_extension": ".py",
   "mimetype": "text/x-python",
   "name": "python",
   "nbconvert_exporter": "python",
   "pygments_lexer": "ipython3",
   "version": "3.7.0"
  }
 },
 "nbformat": 4,
 "nbformat_minor": 4
}
