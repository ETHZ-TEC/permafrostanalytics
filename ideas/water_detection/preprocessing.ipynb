{
 "cells": [
  {
   "cell_type": "code",
   "execution_count": 21,
   "metadata": {},
   "outputs": [],
   "source": [
    "import pandas as pd\n",
    "import matplotlib.pyplot as plt\n",
    "import numpy as np\n",
    "import glob\n",
    "import os\n",
    "from datetime import datetime\n",
    "import io\n",
    "import csv\n",
    "import shutil\n",
    "import matplotlib.pyplot as plt\n",
    "\n",
    "year = 2017\n",
    "YEAR_FLAG = 'train'\n",
    "img_folder = '/datadrive/timelapse_images_fast'\n",
    "timeseries_folder = '/datadrive/timeseries_derived_data_products_'+str(year)\n",
    "target_folder_train = '/datadrive/train_data'\n",
    "target_folder_test = '/datadrive/test_data'\n",
    "year_path = [(year, img_folder)]#] for y in range(2011, 2018)]"
   ]
  },
  {
   "cell_type": "code",
   "execution_count": 24,
   "metadata": {},
   "outputs": [],
   "source": [
    "df = pd.DataFrame()\n",
    "for y, _ in year_path:\n",
    "    path = os.path.join(timeseries_folder,'MH11_resistivity_rock_{}.csv'.format(y))\n",
    "    df = pd.concat((df, pd.read_csv(path)), axis=0)\n",
    "    \n",
    "df2 = pd.DataFrame()\n",
    "for y, _ in year_path:\n",
    "    path2 = os.path.join(timeseries_folder,'MH25_vaisalawxt520prec_{}.csv'.format(y))\n",
    "    df2 = pd.concat((df2, pd.read_csv(path2)), axis=0)\n",
    "    \n",
    "df3 = pd.DataFrame()\n",
    "for y, _ in year_path:\n",
    "    path3 = os.path.join(timeseries_folder,'MH25_vaisalawxt520windpth_2017.csv'.format(y))\n",
    "    df3 = pd.concat((df3, pd.read_csv(path3)), axis=0)"
   ]
  },
  {
   "cell_type": "code",
   "execution_count": 28,
   "metadata": {},
   "outputs": [],
   "source": [
    "def interpolate_to_timestamps(df, time_stamps):\n",
    "    df = df.resample('4T').interpolate()\n",
    "    ind = [df.index.get_loc(tim, method='nearest') for tim in time_stamps.time]\n",
    "    return df.iloc[ind, :]\n",
    "def extract_time_stamps(year_path):\n",
    "    \"\"\"\n",
    "    input: [(year, root_dir), ...]\n",
    "    \"\"\"\n",
    "    dfs = pd.DataFrame()\n",
    "    for y, root_dir in year_path:\n",
    "        path_dict = {}\n",
    "        for filename in glob.iglob(root_dir + '**/'+str(y)+'*/*', recursive=True):\n",
    "            di, filname = os.path.split(filename)\n",
    "            ddi, ydi = os.path.split(di)\n",
    "            path_dict[filname] = extract_time(filname)\n",
    "        df = pd.DataFrame({'time':list(path_dict.values()), 'filename': list(path_dict.keys())}, )\n",
    "        dfs = pd.concat((dfs, df), axis=0)\n",
    "    return dfs\n",
    "\n",
    "def extract_time(filname):\n",
    "    return datetime.strptime(filname, '%Y%m%d_%H%M%S.JPG')\n",
    "\n",
    "def extract_summer_days(time_stamps):\n",
    "    start = pd.Timestamp(datetime(year=2000, month=1, day=1, hour=8)).time()\n",
    "    end = pd.Timestamp(datetime(year=2000, month=1, day=1, hour=20)).time()\n",
    "    time_stamps_day = time_stamps[np.logical_and(time_stamps['time'].dt.time >= start , \n",
    "                                                 time_stamps['time'].dt.time <= end)]\n",
    "    \n",
    "    june = pd.Timestamp(datetime(year=2000, month=5, day=1, hour=8)).month\n",
    "    august = pd.Timestamp(datetime(year=2000, month=8, day=1, hour=8)).month\n",
    "\n",
    "    time_stamps_summerday = time_stamps_day[np.logical_and(time_stamps['time'].dt.month < august , \n",
    "                                                           time_stamps['time'].dt.month >= june)]\n",
    "    \n",
    "    return time_stamps_summerday\n"
   ]
  },
  {
   "cell_type": "code",
   "execution_count": 31,
   "metadata": {},
   "outputs": [
    {
     "name": "stderr",
     "output_type": "stream",
     "text": [
      "/home/ivan/miniconda3/lib/python3.7/site-packages/ipykernel_launcher.py:11: UserWarning: Boolean Series key will be reindexed to match DataFrame index.\n",
      "  # This is added back by InteractiveShellApp.init_path()\n"
     ]
    },
    {
     "data": {
      "text/html": [
       "<div>\n",
       "<style scoped>\n",
       "    .dataframe tbody tr th:only-of-type {\n",
       "        vertical-align: middle;\n",
       "    }\n",
       "\n",
       "    .dataframe tbody tr th {\n",
       "        vertical-align: top;\n",
       "    }\n",
       "\n",
       "    .dataframe thead th {\n",
       "        text-align: right;\n",
       "    }\n",
       "</style>\n",
       "<table border=\"1\" class=\"dataframe\">\n",
       "  <thead>\n",
       "    <tr style=\"text-align: right;\">\n",
       "      <th></th>\n",
       "      <th>time</th>\n",
       "      <th>filename</th>\n",
       "    </tr>\n",
       "  </thead>\n",
       "  <tbody>\n",
       "    <tr>\n",
       "      <th>0</th>\n",
       "      <td>2017-10-28 02:48:10</td>\n",
       "      <td>20171028_024810.JPG</td>\n",
       "    </tr>\n",
       "    <tr>\n",
       "      <th>1</th>\n",
       "      <td>2017-10-28 04:48:11</td>\n",
       "      <td>20171028_044811.JPG</td>\n",
       "    </tr>\n",
       "    <tr>\n",
       "      <th>2</th>\n",
       "      <td>2017-10-28 13:40:10</td>\n",
       "      <td>20171028_134010.JPG</td>\n",
       "    </tr>\n",
       "    <tr>\n",
       "      <th>3</th>\n",
       "      <td>2017-10-28 10:12:11</td>\n",
       "      <td>20171028_101211.JPG</td>\n",
       "    </tr>\n",
       "    <tr>\n",
       "      <th>4</th>\n",
       "      <td>2017-10-28 23:28:10</td>\n",
       "      <td>20171028_232810.JPG</td>\n",
       "    </tr>\n",
       "  </tbody>\n",
       "</table>\n",
       "</div>"
      ],
      "text/plain": [
       "                 time             filename\n",
       "0 2017-10-28 02:48:10  20171028_024810.JPG\n",
       "1 2017-10-28 04:48:11  20171028_044811.JPG\n",
       "2 2017-10-28 13:40:10  20171028_134010.JPG\n",
       "3 2017-10-28 10:12:11  20171028_101211.JPG\n",
       "4 2017-10-28 23:28:10  20171028_232810.JPG"
      ]
     },
     "execution_count": 31,
     "metadata": {},
     "output_type": "execute_result"
    }
   ],
   "source": [
    "#time_stamps = pd.read_pickle('pd_time_stamps.pkl')\n",
    "#time_stamps.head()\n",
    "time_stamps = extract_time_stamps(year_path)\n",
    "summer_days = extract_summer_days(time_stamps)"
   ]
  },
  {
   "cell_type": "code",
   "execution_count": 33,
   "metadata": {},
   "outputs": [],
   "source": [
    "df = df.set_index(pd.DatetimeIndex(df.loc[:, 'time']))\n",
    "df_interp = interpolate_to_timestamps(df, summer_days)\n",
    "df2 = df2.set_index(pd.DatetimeIndex(df2.loc[:, 'time']))\n",
    "df2_interp = interpolate_to_timestamps(df2, summer_days)\n",
    "df_interp['path'] = summer_days.filename.values\n",
    "\n",
    "df_interp['label_thresh_rest10_1'] = df_interp.loc[:, 'resistivity_10cm [Mohm]'] < 300\n",
    "df_interp['label_thresh_rest10_2'] = np.logical_and(300 < df_interp.loc[:, 'resistivity_10cm [Mohm]'],\n",
    "                                                    df_interp.loc[:, 'resistivity_10cm [Mohm]'] < 1200)\n",
    "df_interp['label_thresh_rest10_3'] = 1200 < df_interp.loc[:, 'resistivity_10cm [Mohm]']\n",
    "df_interp['label_thresh_rest10'] = np.where(df_interp.loc[:, ['label_thresh_rest10_1', \n",
    "                                                      'label_thresh_rest10_2', \n",
    "                                                      'label_thresh_rest10_3']].values)[1]\n",
    "df_interp['rain_label'] = df2_interp.loc[:, 'rain_intensity [mm/h]'] > 1"
   ]
  },
  {
   "cell_type": "code",
   "execution_count": 38,
   "metadata": {},
   "outputs": [],
   "source": [
    "df_interp.query('rain_label == False').loc[:, ['path', 'label_thresh_rest10']].to_csv('labels_rain_resist.csv', header=False)\n",
    "df_interp.loc[:, ['path', 'label_thresh_rest10']].to_csv('/datadrive/labels.csv', header=False)"
   ]
  },
  {
   "cell_type": "code",
   "execution_count": 39,
   "metadata": {},
   "outputs": [
    {
     "data": {
      "text/plain": [
       "<matplotlib.axes._subplots.AxesSubplot at 0x7f3fb94089d0>"
      ]
     },
     "execution_count": 39,
     "metadata": {},
     "output_type": "execute_result"
    },
    {
     "data": {
      "image/png": "[encoded data removed]",
      "text/plain": [
       "<Figure size 432x288 with 1 Axes>"
      ]
     },
     "metadata": {
      "needs_background": "light"
     },
     "output_type": "display_data"
    }
   ],
   "source": [
    "#df_interp.loc[:,'label_thresh_rest10'].hist(bins=3)"
   ]
  },
  {
   "cell_type": "markdown",
   "metadata": {},
   "source": [
    "## Preprocessing\n",
    "Run the following cell to generate the folder for the Torch ImageLoader class.\n",
    "The cell requires a labels.csv file which contains the filenames \n",
    "of the image files and corresponding resistivity labels (which can be extended\n",
    "from binary to multiclass depending on resistivity threshold)"
   ]
  },
  {
   "cell_type": "code",
   "execution_count": null,
   "metadata": {},
   "outputs": [],
   "source": [
    "with open('/datadrive/labels.csv') as csvfile:\n",
    "    readCSV = csv.reader(csvfile, delimiter=',')\n",
    "    for row in readCSV:\n",
    "        print(row)\n",
    "        img_name = row[1]\n",
    "        label = row[2]#int(row[2]=='True')\n",
    "        month_folder = row[0][:10]\n",
    "        #print(month_folder)\n",
    "        #print(img_name,label)\n",
    "        #print(os.path.join(img_folder,month_folder,img_name))\n",
    "        if YEAR_FLAG == 'train':\n",
    "            shutil.copyfile(os.path.join(img_folder,month_folder,img_name),os.path.join(target_folder_train,label,img_name))\n",
    "        else:\n",
    "            shutil.copyfile(os.path.join(img_folder,month_folder,img_name),os.path.join(target_folder_test,label,img_name))\n"
   ]
  }
 ],
 "metadata": {
  "kernelspec": {
   "display_name": "Python 3",
   "language": "python",
   "name": "python3"
  },
  "language_info": {
   "codemirror_mode": {
    "name": "ipython",
    "version": 3
   },
   "file_extension": ".py",
   "mimetype": "text/x-python",
   "name": "python",
   "nbconvert_exporter": "python",
   "pygments_lexer": "ipython3",
   "version": "3.7.4"
  }
 },
 "nbformat": 4,
 "nbformat_minor": 4
}
